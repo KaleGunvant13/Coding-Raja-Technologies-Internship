{
  "cells": [
    {
      "cell_type": "markdown",
      "id": "eb4fc3ec",
      "metadata": {
        "id": "eb4fc3ec"
      },
      "source": [
        "# **Movie Recommendation System (MRS)**\n"
      ]
    },
    {
      "cell_type": "markdown",
      "source": [
        "**Objective:**\n",
        "\n",
        "Develop a collaborative filtering-based movie recommendation system."
      ],
      "metadata": {
        "id": "JgTSafGbhMO6"
      },
      "id": "JgTSafGbhMO6"
    },
    {
      "cell_type": "markdown",
      "id": "9c6588c9",
      "metadata": {
        "id": "9c6588c9"
      },
      "source": [
        "# Importing Libaries"
      ]
    },
    {
      "cell_type": "code",
      "execution_count": null,
      "id": "8bab94b4-a041-44d6-800c-5688b26419c2",
      "metadata": {
        "id": "8bab94b4-a041-44d6-800c-5688b26419c2"
      },
      "outputs": [],
      "source": [
        "import pandas as pd\n",
        "import numpy as np"
      ]
    },
    {
      "cell_type": "markdown",
      "id": "8e101f4d",
      "metadata": {
        "id": "8e101f4d"
      },
      "source": [
        "# Importing Dataset"
      ]
    },
    {
      "cell_type": "code",
      "execution_count": null,
      "id": "8f1318ce-8a59-490a-bd82-6f7ffb6be142",
      "metadata": {
        "id": "8f1318ce-8a59-490a-bd82-6f7ffb6be142"
      },
      "outputs": [],
      "source": [
        "movies_df=pd.read_csv('movies.csv')\n",
        "credits_df=pd.read_csv('credits.csv')"
      ]
    },
    {
      "cell_type": "markdown",
      "id": "3b2bdad9-77dc-4392-b145-f6fa6462ede7",
      "metadata": {
        "id": "3b2bdad9-77dc-4392-b145-f6fa6462ede7"
      },
      "source": [
        "# Displaying dataframes"
      ]
    },
    {
      "cell_type": "code",
      "execution_count": null,
      "id": "f0989e4c-51f1-4955-b628-c444da863fc4",
      "metadata": {
        "id": "f0989e4c-51f1-4955-b628-c444da863fc4",
        "outputId": "a16acf80-c711-4803-9e92-0336c54b9837"
      },
      "outputs": [
        {
          "data": {
            "text/html": [
              "<div>\n",
              "<style scoped>\n",
              "    .dataframe tbody tr th:only-of-type {\n",
              "        vertical-align: middle;\n",
              "    }\n",
              "\n",
              "    .dataframe tbody tr th {\n",
              "        vertical-align: top;\n",
              "    }\n",
              "\n",
              "    .dataframe thead th {\n",
              "        text-align: right;\n",
              "    }\n",
              "</style>\n",
              "<table border=\"1\" class=\"dataframe\">\n",
              "  <thead>\n",
              "    <tr style=\"text-align: right;\">\n",
              "      <th></th>\n",
              "      <th>budget</th>\n",
              "      <th>genres</th>\n",
              "      <th>homepage</th>\n",
              "      <th>id</th>\n",
              "      <th>keywords</th>\n",
              "      <th>original_language</th>\n",
              "      <th>original_title</th>\n",
              "      <th>overview</th>\n",
              "      <th>popularity</th>\n",
              "      <th>production_companies</th>\n",
              "      <th>production_countries</th>\n",
              "      <th>release_date</th>\n",
              "      <th>revenue</th>\n",
              "      <th>runtime</th>\n",
              "      <th>spoken_languages</th>\n",
              "      <th>status</th>\n",
              "      <th>tagline</th>\n",
              "      <th>title</th>\n",
              "      <th>vote_average</th>\n",
              "      <th>vote_count</th>\n",
              "    </tr>\n",
              "  </thead>\n",
              "  <tbody>\n",
              "    <tr>\n",
              "      <th>0</th>\n",
              "      <td>237000000</td>\n",
              "      <td>[{\"id\": 28, \"name\": \"Action\"}, {\"id\": 12, \"nam...</td>\n",
              "      <td>http://www.avatarmovie.com/</td>\n",
              "      <td>19995</td>\n",
              "      <td>[{\"id\": 1463, \"name\": \"culture clash\"}, {\"id\":...</td>\n",
              "      <td>en</td>\n",
              "      <td>Avatar</td>\n",
              "      <td>In the 22nd century, a paraplegic Marine is di...</td>\n",
              "      <td>150.437577</td>\n",
              "      <td>[{\"name\": \"Ingenious Film Partners\", \"id\": 289...</td>\n",
              "      <td>[{\"iso_3166_1\": \"US\", \"name\": \"United States o...</td>\n",
              "      <td>2009-12-10</td>\n",
              "      <td>2787965087</td>\n",
              "      <td>162.0</td>\n",
              "      <td>[{\"iso_639_1\": \"en\", \"name\": \"English\"}, {\"iso...</td>\n",
              "      <td>Released</td>\n",
              "      <td>Enter the World of Pandora.</td>\n",
              "      <td>Avatar</td>\n",
              "      <td>7.2</td>\n",
              "      <td>11800</td>\n",
              "    </tr>\n",
              "    <tr>\n",
              "      <th>1</th>\n",
              "      <td>300000000</td>\n",
              "      <td>[{\"id\": 12, \"name\": \"Adventure\"}, {\"id\": 14, \"...</td>\n",
              "      <td>http://disney.go.com/disneypictures/pirates/</td>\n",
              "      <td>285</td>\n",
              "      <td>[{\"id\": 270, \"name\": \"ocean\"}, {\"id\": 726, \"na...</td>\n",
              "      <td>en</td>\n",
              "      <td>Pirates of the Caribbean: At World's End</td>\n",
              "      <td>Captain Barbossa, long believed to be dead, ha...</td>\n",
              "      <td>139.082615</td>\n",
              "      <td>[{\"name\": \"Walt Disney Pictures\", \"id\": 2}, {\"...</td>\n",
              "      <td>[{\"iso_3166_1\": \"US\", \"name\": \"United States o...</td>\n",
              "      <td>2007-05-19</td>\n",
              "      <td>961000000</td>\n",
              "      <td>169.0</td>\n",
              "      <td>[{\"iso_639_1\": \"en\", \"name\": \"English\"}]</td>\n",
              "      <td>Released</td>\n",
              "      <td>At the end of the world, the adventure begins.</td>\n",
              "      <td>Pirates of the Caribbean: At World's End</td>\n",
              "      <td>6.9</td>\n",
              "      <td>4500</td>\n",
              "    </tr>\n",
              "    <tr>\n",
              "      <th>2</th>\n",
              "      <td>245000000</td>\n",
              "      <td>[{\"id\": 28, \"name\": \"Action\"}, {\"id\": 12, \"nam...</td>\n",
              "      <td>http://www.sonypictures.com/movies/spectre/</td>\n",
              "      <td>206647</td>\n",
              "      <td>[{\"id\": 470, \"name\": \"spy\"}, {\"id\": 818, \"name...</td>\n",
              "      <td>en</td>\n",
              "      <td>Spectre</td>\n",
              "      <td>A cryptic message from Bond’s past sends him o...</td>\n",
              "      <td>107.376788</td>\n",
              "      <td>[{\"name\": \"Columbia Pictures\", \"id\": 5}, {\"nam...</td>\n",
              "      <td>[{\"iso_3166_1\": \"GB\", \"name\": \"United Kingdom\"...</td>\n",
              "      <td>2015-10-26</td>\n",
              "      <td>880674609</td>\n",
              "      <td>148.0</td>\n",
              "      <td>[{\"iso_639_1\": \"fr\", \"name\": \"Fran\\u00e7ais\"},...</td>\n",
              "      <td>Released</td>\n",
              "      <td>A Plan No One Escapes</td>\n",
              "      <td>Spectre</td>\n",
              "      <td>6.3</td>\n",
              "      <td>4466</td>\n",
              "    </tr>\n",
              "    <tr>\n",
              "      <th>3</th>\n",
              "      <td>250000000</td>\n",
              "      <td>[{\"id\": 28, \"name\": \"Action\"}, {\"id\": 80, \"nam...</td>\n",
              "      <td>http://www.thedarkknightrises.com/</td>\n",
              "      <td>49026</td>\n",
              "      <td>[{\"id\": 849, \"name\": \"dc comics\"}, {\"id\": 853,...</td>\n",
              "      <td>en</td>\n",
              "      <td>The Dark Knight Rises</td>\n",
              "      <td>Following the death of District Attorney Harve...</td>\n",
              "      <td>112.312950</td>\n",
              "      <td>[{\"name\": \"Legendary Pictures\", \"id\": 923}, {\"...</td>\n",
              "      <td>[{\"iso_3166_1\": \"US\", \"name\": \"United States o...</td>\n",
              "      <td>2012-07-16</td>\n",
              "      <td>1084939099</td>\n",
              "      <td>165.0</td>\n",
              "      <td>[{\"iso_639_1\": \"en\", \"name\": \"English\"}]</td>\n",
              "      <td>Released</td>\n",
              "      <td>The Legend Ends</td>\n",
              "      <td>The Dark Knight Rises</td>\n",
              "      <td>7.6</td>\n",
              "      <td>9106</td>\n",
              "    </tr>\n",
              "    <tr>\n",
              "      <th>4</th>\n",
              "      <td>260000000</td>\n",
              "      <td>[{\"id\": 28, \"name\": \"Action\"}, {\"id\": 12, \"nam...</td>\n",
              "      <td>http://movies.disney.com/john-carter</td>\n",
              "      <td>49529</td>\n",
              "      <td>[{\"id\": 818, \"name\": \"based on novel\"}, {\"id\":...</td>\n",
              "      <td>en</td>\n",
              "      <td>John Carter</td>\n",
              "      <td>John Carter is a war-weary, former military ca...</td>\n",
              "      <td>43.926995</td>\n",
              "      <td>[{\"name\": \"Walt Disney Pictures\", \"id\": 2}]</td>\n",
              "      <td>[{\"iso_3166_1\": \"US\", \"name\": \"United States o...</td>\n",
              "      <td>2012-03-07</td>\n",
              "      <td>284139100</td>\n",
              "      <td>132.0</td>\n",
              "      <td>[{\"iso_639_1\": \"en\", \"name\": \"English\"}]</td>\n",
              "      <td>Released</td>\n",
              "      <td>Lost in our world, found in another.</td>\n",
              "      <td>John Carter</td>\n",
              "      <td>6.1</td>\n",
              "      <td>2124</td>\n",
              "    </tr>\n",
              "    <tr>\n",
              "      <th>...</th>\n",
              "      <td>...</td>\n",
              "      <td>...</td>\n",
              "      <td>...</td>\n",
              "      <td>...</td>\n",
              "      <td>...</td>\n",
              "      <td>...</td>\n",
              "      <td>...</td>\n",
              "      <td>...</td>\n",
              "      <td>...</td>\n",
              "      <td>...</td>\n",
              "      <td>...</td>\n",
              "      <td>...</td>\n",
              "      <td>...</td>\n",
              "      <td>...</td>\n",
              "      <td>...</td>\n",
              "      <td>...</td>\n",
              "      <td>...</td>\n",
              "      <td>...</td>\n",
              "      <td>...</td>\n",
              "      <td>...</td>\n",
              "    </tr>\n",
              "    <tr>\n",
              "      <th>4798</th>\n",
              "      <td>220000</td>\n",
              "      <td>[{\"id\": 28, \"name\": \"Action\"}, {\"id\": 80, \"nam...</td>\n",
              "      <td>NaN</td>\n",
              "      <td>9367</td>\n",
              "      <td>[{\"id\": 5616, \"name\": \"united states\\u2013mexi...</td>\n",
              "      <td>es</td>\n",
              "      <td>El Mariachi</td>\n",
              "      <td>El Mariachi just wants to play his guitar and ...</td>\n",
              "      <td>14.269792</td>\n",
              "      <td>[{\"name\": \"Columbia Pictures\", \"id\": 5}]</td>\n",
              "      <td>[{\"iso_3166_1\": \"MX\", \"name\": \"Mexico\"}, {\"iso...</td>\n",
              "      <td>1992-09-04</td>\n",
              "      <td>2040920</td>\n",
              "      <td>81.0</td>\n",
              "      <td>[{\"iso_639_1\": \"es\", \"name\": \"Espa\\u00f1ol\"}]</td>\n",
              "      <td>Released</td>\n",
              "      <td>He didn't come looking for trouble, but troubl...</td>\n",
              "      <td>El Mariachi</td>\n",
              "      <td>6.6</td>\n",
              "      <td>238</td>\n",
              "    </tr>\n",
              "    <tr>\n",
              "      <th>4799</th>\n",
              "      <td>9000</td>\n",
              "      <td>[{\"id\": 35, \"name\": \"Comedy\"}, {\"id\": 10749, \"...</td>\n",
              "      <td>NaN</td>\n",
              "      <td>72766</td>\n",
              "      <td>[]</td>\n",
              "      <td>en</td>\n",
              "      <td>Newlyweds</td>\n",
              "      <td>A newlywed couple's honeymoon is upended by th...</td>\n",
              "      <td>0.642552</td>\n",
              "      <td>[]</td>\n",
              "      <td>[]</td>\n",
              "      <td>2011-12-26</td>\n",
              "      <td>0</td>\n",
              "      <td>85.0</td>\n",
              "      <td>[]</td>\n",
              "      <td>Released</td>\n",
              "      <td>A newlywed couple's honeymoon is upended by th...</td>\n",
              "      <td>Newlyweds</td>\n",
              "      <td>5.9</td>\n",
              "      <td>5</td>\n",
              "    </tr>\n",
              "    <tr>\n",
              "      <th>4800</th>\n",
              "      <td>0</td>\n",
              "      <td>[{\"id\": 35, \"name\": \"Comedy\"}, {\"id\": 18, \"nam...</td>\n",
              "      <td>http://www.hallmarkchannel.com/signedsealeddel...</td>\n",
              "      <td>231617</td>\n",
              "      <td>[{\"id\": 248, \"name\": \"date\"}, {\"id\": 699, \"nam...</td>\n",
              "      <td>en</td>\n",
              "      <td>Signed, Sealed, Delivered</td>\n",
              "      <td>\"Signed, Sealed, Delivered\" introduces a dedic...</td>\n",
              "      <td>1.444476</td>\n",
              "      <td>[{\"name\": \"Front Street Pictures\", \"id\": 3958}...</td>\n",
              "      <td>[{\"iso_3166_1\": \"US\", \"name\": \"United States o...</td>\n",
              "      <td>2013-10-13</td>\n",
              "      <td>0</td>\n",
              "      <td>120.0</td>\n",
              "      <td>[{\"iso_639_1\": \"en\", \"name\": \"English\"}]</td>\n",
              "      <td>Released</td>\n",
              "      <td>NaN</td>\n",
              "      <td>Signed, Sealed, Delivered</td>\n",
              "      <td>7.0</td>\n",
              "      <td>6</td>\n",
              "    </tr>\n",
              "    <tr>\n",
              "      <th>4801</th>\n",
              "      <td>0</td>\n",
              "      <td>[]</td>\n",
              "      <td>http://shanghaicalling.com/</td>\n",
              "      <td>126186</td>\n",
              "      <td>[]</td>\n",
              "      <td>en</td>\n",
              "      <td>Shanghai Calling</td>\n",
              "      <td>When ambitious New York attorney Sam is sent t...</td>\n",
              "      <td>0.857008</td>\n",
              "      <td>[]</td>\n",
              "      <td>[{\"iso_3166_1\": \"US\", \"name\": \"United States o...</td>\n",
              "      <td>2012-05-03</td>\n",
              "      <td>0</td>\n",
              "      <td>98.0</td>\n",
              "      <td>[{\"iso_639_1\": \"en\", \"name\": \"English\"}]</td>\n",
              "      <td>Released</td>\n",
              "      <td>A New Yorker in Shanghai</td>\n",
              "      <td>Shanghai Calling</td>\n",
              "      <td>5.7</td>\n",
              "      <td>7</td>\n",
              "    </tr>\n",
              "    <tr>\n",
              "      <th>4802</th>\n",
              "      <td>0</td>\n",
              "      <td>[{\"id\": 99, \"name\": \"Documentary\"}]</td>\n",
              "      <td>NaN</td>\n",
              "      <td>25975</td>\n",
              "      <td>[{\"id\": 1523, \"name\": \"obsession\"}, {\"id\": 224...</td>\n",
              "      <td>en</td>\n",
              "      <td>My Date with Drew</td>\n",
              "      <td>Ever since the second grade when he first saw ...</td>\n",
              "      <td>1.929883</td>\n",
              "      <td>[{\"name\": \"rusty bear entertainment\", \"id\": 87...</td>\n",
              "      <td>[{\"iso_3166_1\": \"US\", \"name\": \"United States o...</td>\n",
              "      <td>2005-08-05</td>\n",
              "      <td>0</td>\n",
              "      <td>90.0</td>\n",
              "      <td>[{\"iso_639_1\": \"en\", \"name\": \"English\"}]</td>\n",
              "      <td>Released</td>\n",
              "      <td>NaN</td>\n",
              "      <td>My Date with Drew</td>\n",
              "      <td>6.3</td>\n",
              "      <td>16</td>\n",
              "    </tr>\n",
              "  </tbody>\n",
              "</table>\n",
              "<p>4803 rows × 20 columns</p>\n",
              "</div>"
            ],
            "text/plain": [
              "         budget                                             genres  \\\n",
              "0     237000000  [{\"id\": 28, \"name\": \"Action\"}, {\"id\": 12, \"nam...   \n",
              "1     300000000  [{\"id\": 12, \"name\": \"Adventure\"}, {\"id\": 14, \"...   \n",
              "2     245000000  [{\"id\": 28, \"name\": \"Action\"}, {\"id\": 12, \"nam...   \n",
              "3     250000000  [{\"id\": 28, \"name\": \"Action\"}, {\"id\": 80, \"nam...   \n",
              "4     260000000  [{\"id\": 28, \"name\": \"Action\"}, {\"id\": 12, \"nam...   \n",
              "...         ...                                                ...   \n",
              "4798     220000  [{\"id\": 28, \"name\": \"Action\"}, {\"id\": 80, \"nam...   \n",
              "4799       9000  [{\"id\": 35, \"name\": \"Comedy\"}, {\"id\": 10749, \"...   \n",
              "4800          0  [{\"id\": 35, \"name\": \"Comedy\"}, {\"id\": 18, \"nam...   \n",
              "4801          0                                                 []   \n",
              "4802          0                [{\"id\": 99, \"name\": \"Documentary\"}]   \n",
              "\n",
              "                                               homepage      id  \\\n",
              "0                           http://www.avatarmovie.com/   19995   \n",
              "1          http://disney.go.com/disneypictures/pirates/     285   \n",
              "2           http://www.sonypictures.com/movies/spectre/  206647   \n",
              "3                    http://www.thedarkknightrises.com/   49026   \n",
              "4                  http://movies.disney.com/john-carter   49529   \n",
              "...                                                 ...     ...   \n",
              "4798                                                NaN    9367   \n",
              "4799                                                NaN   72766   \n",
              "4800  http://www.hallmarkchannel.com/signedsealeddel...  231617   \n",
              "4801                        http://shanghaicalling.com/  126186   \n",
              "4802                                                NaN   25975   \n",
              "\n",
              "                                               keywords original_language  \\\n",
              "0     [{\"id\": 1463, \"name\": \"culture clash\"}, {\"id\":...                en   \n",
              "1     [{\"id\": 270, \"name\": \"ocean\"}, {\"id\": 726, \"na...                en   \n",
              "2     [{\"id\": 470, \"name\": \"spy\"}, {\"id\": 818, \"name...                en   \n",
              "3     [{\"id\": 849, \"name\": \"dc comics\"}, {\"id\": 853,...                en   \n",
              "4     [{\"id\": 818, \"name\": \"based on novel\"}, {\"id\":...                en   \n",
              "...                                                 ...               ...   \n",
              "4798  [{\"id\": 5616, \"name\": \"united states\\u2013mexi...                es   \n",
              "4799                                                 []                en   \n",
              "4800  [{\"id\": 248, \"name\": \"date\"}, {\"id\": 699, \"nam...                en   \n",
              "4801                                                 []                en   \n",
              "4802  [{\"id\": 1523, \"name\": \"obsession\"}, {\"id\": 224...                en   \n",
              "\n",
              "                                original_title  \\\n",
              "0                                       Avatar   \n",
              "1     Pirates of the Caribbean: At World's End   \n",
              "2                                      Spectre   \n",
              "3                        The Dark Knight Rises   \n",
              "4                                  John Carter   \n",
              "...                                        ...   \n",
              "4798                               El Mariachi   \n",
              "4799                                 Newlyweds   \n",
              "4800                 Signed, Sealed, Delivered   \n",
              "4801                          Shanghai Calling   \n",
              "4802                         My Date with Drew   \n",
              "\n",
              "                                               overview  popularity  \\\n",
              "0     In the 22nd century, a paraplegic Marine is di...  150.437577   \n",
              "1     Captain Barbossa, long believed to be dead, ha...  139.082615   \n",
              "2     A cryptic message from Bond’s past sends him o...  107.376788   \n",
              "3     Following the death of District Attorney Harve...  112.312950   \n",
              "4     John Carter is a war-weary, former military ca...   43.926995   \n",
              "...                                                 ...         ...   \n",
              "4798  El Mariachi just wants to play his guitar and ...   14.269792   \n",
              "4799  A newlywed couple's honeymoon is upended by th...    0.642552   \n",
              "4800  \"Signed, Sealed, Delivered\" introduces a dedic...    1.444476   \n",
              "4801  When ambitious New York attorney Sam is sent t...    0.857008   \n",
              "4802  Ever since the second grade when he first saw ...    1.929883   \n",
              "\n",
              "                                   production_companies  \\\n",
              "0     [{\"name\": \"Ingenious Film Partners\", \"id\": 289...   \n",
              "1     [{\"name\": \"Walt Disney Pictures\", \"id\": 2}, {\"...   \n",
              "2     [{\"name\": \"Columbia Pictures\", \"id\": 5}, {\"nam...   \n",
              "3     [{\"name\": \"Legendary Pictures\", \"id\": 923}, {\"...   \n",
              "4           [{\"name\": \"Walt Disney Pictures\", \"id\": 2}]   \n",
              "...                                                 ...   \n",
              "4798           [{\"name\": \"Columbia Pictures\", \"id\": 5}]   \n",
              "4799                                                 []   \n",
              "4800  [{\"name\": \"Front Street Pictures\", \"id\": 3958}...   \n",
              "4801                                                 []   \n",
              "4802  [{\"name\": \"rusty bear entertainment\", \"id\": 87...   \n",
              "\n",
              "                                   production_countries release_date  \\\n",
              "0     [{\"iso_3166_1\": \"US\", \"name\": \"United States o...   2009-12-10   \n",
              "1     [{\"iso_3166_1\": \"US\", \"name\": \"United States o...   2007-05-19   \n",
              "2     [{\"iso_3166_1\": \"GB\", \"name\": \"United Kingdom\"...   2015-10-26   \n",
              "3     [{\"iso_3166_1\": \"US\", \"name\": \"United States o...   2012-07-16   \n",
              "4     [{\"iso_3166_1\": \"US\", \"name\": \"United States o...   2012-03-07   \n",
              "...                                                 ...          ...   \n",
              "4798  [{\"iso_3166_1\": \"MX\", \"name\": \"Mexico\"}, {\"iso...   1992-09-04   \n",
              "4799                                                 []   2011-12-26   \n",
              "4800  [{\"iso_3166_1\": \"US\", \"name\": \"United States o...   2013-10-13   \n",
              "4801  [{\"iso_3166_1\": \"US\", \"name\": \"United States o...   2012-05-03   \n",
              "4802  [{\"iso_3166_1\": \"US\", \"name\": \"United States o...   2005-08-05   \n",
              "\n",
              "         revenue  runtime                                   spoken_languages  \\\n",
              "0     2787965087    162.0  [{\"iso_639_1\": \"en\", \"name\": \"English\"}, {\"iso...   \n",
              "1      961000000    169.0           [{\"iso_639_1\": \"en\", \"name\": \"English\"}]   \n",
              "2      880674609    148.0  [{\"iso_639_1\": \"fr\", \"name\": \"Fran\\u00e7ais\"},...   \n",
              "3     1084939099    165.0           [{\"iso_639_1\": \"en\", \"name\": \"English\"}]   \n",
              "4      284139100    132.0           [{\"iso_639_1\": \"en\", \"name\": \"English\"}]   \n",
              "...          ...      ...                                                ...   \n",
              "4798     2040920     81.0      [{\"iso_639_1\": \"es\", \"name\": \"Espa\\u00f1ol\"}]   \n",
              "4799           0     85.0                                                 []   \n",
              "4800           0    120.0           [{\"iso_639_1\": \"en\", \"name\": \"English\"}]   \n",
              "4801           0     98.0           [{\"iso_639_1\": \"en\", \"name\": \"English\"}]   \n",
              "4802           0     90.0           [{\"iso_639_1\": \"en\", \"name\": \"English\"}]   \n",
              "\n",
              "        status                                            tagline  \\\n",
              "0     Released                        Enter the World of Pandora.   \n",
              "1     Released     At the end of the world, the adventure begins.   \n",
              "2     Released                              A Plan No One Escapes   \n",
              "3     Released                                    The Legend Ends   \n",
              "4     Released               Lost in our world, found in another.   \n",
              "...        ...                                                ...   \n",
              "4798  Released  He didn't come looking for trouble, but troubl...   \n",
              "4799  Released  A newlywed couple's honeymoon is upended by th...   \n",
              "4800  Released                                                NaN   \n",
              "4801  Released                           A New Yorker in Shanghai   \n",
              "4802  Released                                                NaN   \n",
              "\n",
              "                                         title  vote_average  vote_count  \n",
              "0                                       Avatar           7.2       11800  \n",
              "1     Pirates of the Caribbean: At World's End           6.9        4500  \n",
              "2                                      Spectre           6.3        4466  \n",
              "3                        The Dark Knight Rises           7.6        9106  \n",
              "4                                  John Carter           6.1        2124  \n",
              "...                                        ...           ...         ...  \n",
              "4798                               El Mariachi           6.6         238  \n",
              "4799                                 Newlyweds           5.9           5  \n",
              "4800                 Signed, Sealed, Delivered           7.0           6  \n",
              "4801                          Shanghai Calling           5.7           7  \n",
              "4802                         My Date with Drew           6.3          16  \n",
              "\n",
              "[4803 rows x 20 columns]"
            ]
          },
          "execution_count": 445,
          "metadata": {},
          "output_type": "execute_result"
        }
      ],
      "source": [
        "movies_df"
      ]
    },
    {
      "cell_type": "code",
      "execution_count": null,
      "id": "ba518e92-4f83-45e6-a3b2-d7d77a796d1c",
      "metadata": {
        "id": "ba518e92-4f83-45e6-a3b2-d7d77a796d1c",
        "outputId": "ef1c5d00-2f3d-4c09-ddf2-54b2175db0d7"
      },
      "outputs": [
        {
          "data": {
            "text/html": [
              "<div>\n",
              "<style scoped>\n",
              "    .dataframe tbody tr th:only-of-type {\n",
              "        vertical-align: middle;\n",
              "    }\n",
              "\n",
              "    .dataframe tbody tr th {\n",
              "        vertical-align: top;\n",
              "    }\n",
              "\n",
              "    .dataframe thead th {\n",
              "        text-align: right;\n",
              "    }\n",
              "</style>\n",
              "<table border=\"1\" class=\"dataframe\">\n",
              "  <thead>\n",
              "    <tr style=\"text-align: right;\">\n",
              "      <th></th>\n",
              "      <th>movie_id</th>\n",
              "      <th>title</th>\n",
              "      <th>cast</th>\n",
              "      <th>crew</th>\n",
              "    </tr>\n",
              "  </thead>\n",
              "  <tbody>\n",
              "    <tr>\n",
              "      <th>0</th>\n",
              "      <td>19995</td>\n",
              "      <td>Avatar</td>\n",
              "      <td>[{\"cast_id\": 242, \"character\": \"Jake Sully\", \"...</td>\n",
              "      <td>[{\"credit_id\": \"52fe48009251416c750aca23\", \"de...</td>\n",
              "    </tr>\n",
              "    <tr>\n",
              "      <th>1</th>\n",
              "      <td>285</td>\n",
              "      <td>Pirates of the Caribbean: At World's End</td>\n",
              "      <td>[{\"cast_id\": 4, \"character\": \"Captain Jack Spa...</td>\n",
              "      <td>[{\"credit_id\": \"52fe4232c3a36847f800b579\", \"de...</td>\n",
              "    </tr>\n",
              "    <tr>\n",
              "      <th>2</th>\n",
              "      <td>206647</td>\n",
              "      <td>Spectre</td>\n",
              "      <td>[{\"cast_id\": 1, \"character\": \"James Bond\", \"cr...</td>\n",
              "      <td>[{\"credit_id\": \"54805967c3a36829b5002c41\", \"de...</td>\n",
              "    </tr>\n",
              "    <tr>\n",
              "      <th>3</th>\n",
              "      <td>49026</td>\n",
              "      <td>The Dark Knight Rises</td>\n",
              "      <td>[{\"cast_id\": 2, \"character\": \"Bruce Wayne / Ba...</td>\n",
              "      <td>[{\"credit_id\": \"52fe4781c3a36847f81398c3\", \"de...</td>\n",
              "    </tr>\n",
              "    <tr>\n",
              "      <th>4</th>\n",
              "      <td>49529</td>\n",
              "      <td>John Carter</td>\n",
              "      <td>[{\"cast_id\": 5, \"character\": \"John Carter\", \"c...</td>\n",
              "      <td>[{\"credit_id\": \"52fe479ac3a36847f813eaa3\", \"de...</td>\n",
              "    </tr>\n",
              "  </tbody>\n",
              "</table>\n",
              "</div>"
            ],
            "text/plain": [
              "   movie_id                                     title  \\\n",
              "0     19995                                    Avatar   \n",
              "1       285  Pirates of the Caribbean: At World's End   \n",
              "2    206647                                   Spectre   \n",
              "3     49026                     The Dark Knight Rises   \n",
              "4     49529                               John Carter   \n",
              "\n",
              "                                                cast  \\\n",
              "0  [{\"cast_id\": 242, \"character\": \"Jake Sully\", \"...   \n",
              "1  [{\"cast_id\": 4, \"character\": \"Captain Jack Spa...   \n",
              "2  [{\"cast_id\": 1, \"character\": \"James Bond\", \"cr...   \n",
              "3  [{\"cast_id\": 2, \"character\": \"Bruce Wayne / Ba...   \n",
              "4  [{\"cast_id\": 5, \"character\": \"John Carter\", \"c...   \n",
              "\n",
              "                                                crew  \n",
              "0  [{\"credit_id\": \"52fe48009251416c750aca23\", \"de...  \n",
              "1  [{\"credit_id\": \"52fe4232c3a36847f800b579\", \"de...  \n",
              "2  [{\"credit_id\": \"54805967c3a36829b5002c41\", \"de...  \n",
              "3  [{\"credit_id\": \"52fe4781c3a36847f81398c3\", \"de...  \n",
              "4  [{\"credit_id\": \"52fe479ac3a36847f813eaa3\", \"de...  "
            ]
          },
          "execution_count": 446,
          "metadata": {},
          "output_type": "execute_result"
        }
      ],
      "source": [
        "credits_df.head(5)"
      ]
    },
    {
      "cell_type": "code",
      "execution_count": null,
      "id": "ff23d131-716b-43b2-b66a-41aa4a5a0fe7",
      "metadata": {
        "id": "ff23d131-716b-43b2-b66a-41aa4a5a0fe7",
        "outputId": "2dc5ca0e-0ab3-4579-aeb8-8d8ee0ab9af7"
      },
      "outputs": [
        {
          "data": {
            "text/plain": [
              "(4803, 20)"
            ]
          },
          "execution_count": 447,
          "metadata": {},
          "output_type": "execute_result"
        }
      ],
      "source": [
        "movies_df.shape"
      ]
    },
    {
      "cell_type": "code",
      "execution_count": null,
      "id": "5cd71b29-41fe-445c-9a54-f7af0fc909de",
      "metadata": {
        "scrolled": true,
        "id": "5cd71b29-41fe-445c-9a54-f7af0fc909de",
        "outputId": "4edc13f4-381d-4cfb-d1ab-5418fc0f9e73"
      },
      "outputs": [
        {
          "data": {
            "text/plain": [
              "(4803, 4)"
            ]
          },
          "execution_count": 448,
          "metadata": {},
          "output_type": "execute_result"
        }
      ],
      "source": [
        "credits_df.shape"
      ]
    },
    {
      "cell_type": "markdown",
      "id": "70afdf89-b02d-4dfa-8004-ff55d586f39a",
      "metadata": {
        "id": "70afdf89-b02d-4dfa-8004-ff55d586f39a"
      },
      "source": [
        "## Merging two datasets before data processing"
      ]
    },
    {
      "cell_type": "code",
      "execution_count": null,
      "id": "a319ca8b-3ef5-473b-997f-811efa174837",
      "metadata": {
        "id": "a319ca8b-3ef5-473b-997f-811efa174837"
      },
      "outputs": [],
      "source": [
        "movies_df = movies_df.merge(credits_df, on = 'title')"
      ]
    },
    {
      "cell_type": "code",
      "execution_count": null,
      "id": "5e7f6500-ed8b-4bdf-8e49-24bd155f388c",
      "metadata": {
        "id": "5e7f6500-ed8b-4bdf-8e49-24bd155f388c",
        "outputId": "e91d0ffd-b6a6-4980-aeea-6ef93c60bc86"
      },
      "outputs": [
        {
          "data": {
            "text/html": [
              "<div>\n",
              "<style scoped>\n",
              "    .dataframe tbody tr th:only-of-type {\n",
              "        vertical-align: middle;\n",
              "    }\n",
              "\n",
              "    .dataframe tbody tr th {\n",
              "        vertical-align: top;\n",
              "    }\n",
              "\n",
              "    .dataframe thead th {\n",
              "        text-align: right;\n",
              "    }\n",
              "</style>\n",
              "<table border=\"1\" class=\"dataframe\">\n",
              "  <thead>\n",
              "    <tr style=\"text-align: right;\">\n",
              "      <th></th>\n",
              "      <th>budget</th>\n",
              "      <th>genres</th>\n",
              "      <th>homepage</th>\n",
              "      <th>id</th>\n",
              "      <th>keywords</th>\n",
              "      <th>original_language</th>\n",
              "      <th>original_title</th>\n",
              "      <th>overview</th>\n",
              "      <th>popularity</th>\n",
              "      <th>production_companies</th>\n",
              "      <th>...</th>\n",
              "      <th>runtime</th>\n",
              "      <th>spoken_languages</th>\n",
              "      <th>status</th>\n",
              "      <th>tagline</th>\n",
              "      <th>title</th>\n",
              "      <th>vote_average</th>\n",
              "      <th>vote_count</th>\n",
              "      <th>movie_id</th>\n",
              "      <th>cast</th>\n",
              "      <th>crew</th>\n",
              "    </tr>\n",
              "  </thead>\n",
              "  <tbody>\n",
              "    <tr>\n",
              "      <th>0</th>\n",
              "      <td>237000000</td>\n",
              "      <td>[{\"id\": 28, \"name\": \"Action\"}, {\"id\": 12, \"nam...</td>\n",
              "      <td>http://www.avatarmovie.com/</td>\n",
              "      <td>19995</td>\n",
              "      <td>[{\"id\": 1463, \"name\": \"culture clash\"}, {\"id\":...</td>\n",
              "      <td>en</td>\n",
              "      <td>Avatar</td>\n",
              "      <td>In the 22nd century, a paraplegic Marine is di...</td>\n",
              "      <td>150.437577</td>\n",
              "      <td>[{\"name\": \"Ingenious Film Partners\", \"id\": 289...</td>\n",
              "      <td>...</td>\n",
              "      <td>162.0</td>\n",
              "      <td>[{\"iso_639_1\": \"en\", \"name\": \"English\"}, {\"iso...</td>\n",
              "      <td>Released</td>\n",
              "      <td>Enter the World of Pandora.</td>\n",
              "      <td>Avatar</td>\n",
              "      <td>7.2</td>\n",
              "      <td>11800</td>\n",
              "      <td>19995</td>\n",
              "      <td>[{\"cast_id\": 242, \"character\": \"Jake Sully\", \"...</td>\n",
              "      <td>[{\"credit_id\": \"52fe48009251416c750aca23\", \"de...</td>\n",
              "    </tr>\n",
              "    <tr>\n",
              "      <th>1</th>\n",
              "      <td>300000000</td>\n",
              "      <td>[{\"id\": 12, \"name\": \"Adventure\"}, {\"id\": 14, \"...</td>\n",
              "      <td>http://disney.go.com/disneypictures/pirates/</td>\n",
              "      <td>285</td>\n",
              "      <td>[{\"id\": 270, \"name\": \"ocean\"}, {\"id\": 726, \"na...</td>\n",
              "      <td>en</td>\n",
              "      <td>Pirates of the Caribbean: At World's End</td>\n",
              "      <td>Captain Barbossa, long believed to be dead, ha...</td>\n",
              "      <td>139.082615</td>\n",
              "      <td>[{\"name\": \"Walt Disney Pictures\", \"id\": 2}, {\"...</td>\n",
              "      <td>...</td>\n",
              "      <td>169.0</td>\n",
              "      <td>[{\"iso_639_1\": \"en\", \"name\": \"English\"}]</td>\n",
              "      <td>Released</td>\n",
              "      <td>At the end of the world, the adventure begins.</td>\n",
              "      <td>Pirates of the Caribbean: At World's End</td>\n",
              "      <td>6.9</td>\n",
              "      <td>4500</td>\n",
              "      <td>285</td>\n",
              "      <td>[{\"cast_id\": 4, \"character\": \"Captain Jack Spa...</td>\n",
              "      <td>[{\"credit_id\": \"52fe4232c3a36847f800b579\", \"de...</td>\n",
              "    </tr>\n",
              "    <tr>\n",
              "      <th>2</th>\n",
              "      <td>245000000</td>\n",
              "      <td>[{\"id\": 28, \"name\": \"Action\"}, {\"id\": 12, \"nam...</td>\n",
              "      <td>http://www.sonypictures.com/movies/spectre/</td>\n",
              "      <td>206647</td>\n",
              "      <td>[{\"id\": 470, \"name\": \"spy\"}, {\"id\": 818, \"name...</td>\n",
              "      <td>en</td>\n",
              "      <td>Spectre</td>\n",
              "      <td>A cryptic message from Bond’s past sends him o...</td>\n",
              "      <td>107.376788</td>\n",
              "      <td>[{\"name\": \"Columbia Pictures\", \"id\": 5}, {\"nam...</td>\n",
              "      <td>...</td>\n",
              "      <td>148.0</td>\n",
              "      <td>[{\"iso_639_1\": \"fr\", \"name\": \"Fran\\u00e7ais\"},...</td>\n",
              "      <td>Released</td>\n",
              "      <td>A Plan No One Escapes</td>\n",
              "      <td>Spectre</td>\n",
              "      <td>6.3</td>\n",
              "      <td>4466</td>\n",
              "      <td>206647</td>\n",
              "      <td>[{\"cast_id\": 1, \"character\": \"James Bond\", \"cr...</td>\n",
              "      <td>[{\"credit_id\": \"54805967c3a36829b5002c41\", \"de...</td>\n",
              "    </tr>\n",
              "    <tr>\n",
              "      <th>3</th>\n",
              "      <td>250000000</td>\n",
              "      <td>[{\"id\": 28, \"name\": \"Action\"}, {\"id\": 80, \"nam...</td>\n",
              "      <td>http://www.thedarkknightrises.com/</td>\n",
              "      <td>49026</td>\n",
              "      <td>[{\"id\": 849, \"name\": \"dc comics\"}, {\"id\": 853,...</td>\n",
              "      <td>en</td>\n",
              "      <td>The Dark Knight Rises</td>\n",
              "      <td>Following the death of District Attorney Harve...</td>\n",
              "      <td>112.312950</td>\n",
              "      <td>[{\"name\": \"Legendary Pictures\", \"id\": 923}, {\"...</td>\n",
              "      <td>...</td>\n",
              "      <td>165.0</td>\n",
              "      <td>[{\"iso_639_1\": \"en\", \"name\": \"English\"}]</td>\n",
              "      <td>Released</td>\n",
              "      <td>The Legend Ends</td>\n",
              "      <td>The Dark Knight Rises</td>\n",
              "      <td>7.6</td>\n",
              "      <td>9106</td>\n",
              "      <td>49026</td>\n",
              "      <td>[{\"cast_id\": 2, \"character\": \"Bruce Wayne / Ba...</td>\n",
              "      <td>[{\"credit_id\": \"52fe4781c3a36847f81398c3\", \"de...</td>\n",
              "    </tr>\n",
              "    <tr>\n",
              "      <th>4</th>\n",
              "      <td>260000000</td>\n",
              "      <td>[{\"id\": 28, \"name\": \"Action\"}, {\"id\": 12, \"nam...</td>\n",
              "      <td>http://movies.disney.com/john-carter</td>\n",
              "      <td>49529</td>\n",
              "      <td>[{\"id\": 818, \"name\": \"based on novel\"}, {\"id\":...</td>\n",
              "      <td>en</td>\n",
              "      <td>John Carter</td>\n",
              "      <td>John Carter is a war-weary, former military ca...</td>\n",
              "      <td>43.926995</td>\n",
              "      <td>[{\"name\": \"Walt Disney Pictures\", \"id\": 2}]</td>\n",
              "      <td>...</td>\n",
              "      <td>132.0</td>\n",
              "      <td>[{\"iso_639_1\": \"en\", \"name\": \"English\"}]</td>\n",
              "      <td>Released</td>\n",
              "      <td>Lost in our world, found in another.</td>\n",
              "      <td>John Carter</td>\n",
              "      <td>6.1</td>\n",
              "      <td>2124</td>\n",
              "      <td>49529</td>\n",
              "      <td>[{\"cast_id\": 5, \"character\": \"John Carter\", \"c...</td>\n",
              "      <td>[{\"credit_id\": \"52fe479ac3a36847f813eaa3\", \"de...</td>\n",
              "    </tr>\n",
              "    <tr>\n",
              "      <th>...</th>\n",
              "      <td>...</td>\n",
              "      <td>...</td>\n",
              "      <td>...</td>\n",
              "      <td>...</td>\n",
              "      <td>...</td>\n",
              "      <td>...</td>\n",
              "      <td>...</td>\n",
              "      <td>...</td>\n",
              "      <td>...</td>\n",
              "      <td>...</td>\n",
              "      <td>...</td>\n",
              "      <td>...</td>\n",
              "      <td>...</td>\n",
              "      <td>...</td>\n",
              "      <td>...</td>\n",
              "      <td>...</td>\n",
              "      <td>...</td>\n",
              "      <td>...</td>\n",
              "      <td>...</td>\n",
              "      <td>...</td>\n",
              "      <td>...</td>\n",
              "    </tr>\n",
              "    <tr>\n",
              "      <th>4804</th>\n",
              "      <td>220000</td>\n",
              "      <td>[{\"id\": 28, \"name\": \"Action\"}, {\"id\": 80, \"nam...</td>\n",
              "      <td>NaN</td>\n",
              "      <td>9367</td>\n",
              "      <td>[{\"id\": 5616, \"name\": \"united states\\u2013mexi...</td>\n",
              "      <td>es</td>\n",
              "      <td>El Mariachi</td>\n",
              "      <td>El Mariachi just wants to play his guitar and ...</td>\n",
              "      <td>14.269792</td>\n",
              "      <td>[{\"name\": \"Columbia Pictures\", \"id\": 5}]</td>\n",
              "      <td>...</td>\n",
              "      <td>81.0</td>\n",
              "      <td>[{\"iso_639_1\": \"es\", \"name\": \"Espa\\u00f1ol\"}]</td>\n",
              "      <td>Released</td>\n",
              "      <td>He didn't come looking for trouble, but troubl...</td>\n",
              "      <td>El Mariachi</td>\n",
              "      <td>6.6</td>\n",
              "      <td>238</td>\n",
              "      <td>9367</td>\n",
              "      <td>[{\"cast_id\": 1, \"character\": \"El Mariachi\", \"c...</td>\n",
              "      <td>[{\"credit_id\": \"52fe44eec3a36847f80b280b\", \"de...</td>\n",
              "    </tr>\n",
              "    <tr>\n",
              "      <th>4805</th>\n",
              "      <td>9000</td>\n",
              "      <td>[{\"id\": 35, \"name\": \"Comedy\"}, {\"id\": 10749, \"...</td>\n",
              "      <td>NaN</td>\n",
              "      <td>72766</td>\n",
              "      <td>[]</td>\n",
              "      <td>en</td>\n",
              "      <td>Newlyweds</td>\n",
              "      <td>A newlywed couple's honeymoon is upended by th...</td>\n",
              "      <td>0.642552</td>\n",
              "      <td>[]</td>\n",
              "      <td>...</td>\n",
              "      <td>85.0</td>\n",
              "      <td>[]</td>\n",
              "      <td>Released</td>\n",
              "      <td>A newlywed couple's honeymoon is upended by th...</td>\n",
              "      <td>Newlyweds</td>\n",
              "      <td>5.9</td>\n",
              "      <td>5</td>\n",
              "      <td>72766</td>\n",
              "      <td>[{\"cast_id\": 1, \"character\": \"Buzzy\", \"credit_...</td>\n",
              "      <td>[{\"credit_id\": \"52fe487dc3a368484e0fb013\", \"de...</td>\n",
              "    </tr>\n",
              "    <tr>\n",
              "      <th>4806</th>\n",
              "      <td>0</td>\n",
              "      <td>[{\"id\": 35, \"name\": \"Comedy\"}, {\"id\": 18, \"nam...</td>\n",
              "      <td>http://www.hallmarkchannel.com/signedsealeddel...</td>\n",
              "      <td>231617</td>\n",
              "      <td>[{\"id\": 248, \"name\": \"date\"}, {\"id\": 699, \"nam...</td>\n",
              "      <td>en</td>\n",
              "      <td>Signed, Sealed, Delivered</td>\n",
              "      <td>\"Signed, Sealed, Delivered\" introduces a dedic...</td>\n",
              "      <td>1.444476</td>\n",
              "      <td>[{\"name\": \"Front Street Pictures\", \"id\": 3958}...</td>\n",
              "      <td>...</td>\n",
              "      <td>120.0</td>\n",
              "      <td>[{\"iso_639_1\": \"en\", \"name\": \"English\"}]</td>\n",
              "      <td>Released</td>\n",
              "      <td>NaN</td>\n",
              "      <td>Signed, Sealed, Delivered</td>\n",
              "      <td>7.0</td>\n",
              "      <td>6</td>\n",
              "      <td>231617</td>\n",
              "      <td>[{\"cast_id\": 8, \"character\": \"Oliver O\\u2019To...</td>\n",
              "      <td>[{\"credit_id\": \"52fe4df3c3a36847f8275ecf\", \"de...</td>\n",
              "    </tr>\n",
              "    <tr>\n",
              "      <th>4807</th>\n",
              "      <td>0</td>\n",
              "      <td>[]</td>\n",
              "      <td>http://shanghaicalling.com/</td>\n",
              "      <td>126186</td>\n",
              "      <td>[]</td>\n",
              "      <td>en</td>\n",
              "      <td>Shanghai Calling</td>\n",
              "      <td>When ambitious New York attorney Sam is sent t...</td>\n",
              "      <td>0.857008</td>\n",
              "      <td>[]</td>\n",
              "      <td>...</td>\n",
              "      <td>98.0</td>\n",
              "      <td>[{\"iso_639_1\": \"en\", \"name\": \"English\"}]</td>\n",
              "      <td>Released</td>\n",
              "      <td>A New Yorker in Shanghai</td>\n",
              "      <td>Shanghai Calling</td>\n",
              "      <td>5.7</td>\n",
              "      <td>7</td>\n",
              "      <td>126186</td>\n",
              "      <td>[{\"cast_id\": 3, \"character\": \"Sam\", \"credit_id...</td>\n",
              "      <td>[{\"credit_id\": \"52fe4ad9c3a368484e16a36b\", \"de...</td>\n",
              "    </tr>\n",
              "    <tr>\n",
              "      <th>4808</th>\n",
              "      <td>0</td>\n",
              "      <td>[{\"id\": 99, \"name\": \"Documentary\"}]</td>\n",
              "      <td>NaN</td>\n",
              "      <td>25975</td>\n",
              "      <td>[{\"id\": 1523, \"name\": \"obsession\"}, {\"id\": 224...</td>\n",
              "      <td>en</td>\n",
              "      <td>My Date with Drew</td>\n",
              "      <td>Ever since the second grade when he first saw ...</td>\n",
              "      <td>1.929883</td>\n",
              "      <td>[{\"name\": \"rusty bear entertainment\", \"id\": 87...</td>\n",
              "      <td>...</td>\n",
              "      <td>90.0</td>\n",
              "      <td>[{\"iso_639_1\": \"en\", \"name\": \"English\"}]</td>\n",
              "      <td>Released</td>\n",
              "      <td>NaN</td>\n",
              "      <td>My Date with Drew</td>\n",
              "      <td>6.3</td>\n",
              "      <td>16</td>\n",
              "      <td>25975</td>\n",
              "      <td>[{\"cast_id\": 3, \"character\": \"Herself\", \"credi...</td>\n",
              "      <td>[{\"credit_id\": \"58ce021b9251415a390165d9\", \"de...</td>\n",
              "    </tr>\n",
              "  </tbody>\n",
              "</table>\n",
              "<p>4809 rows × 23 columns</p>\n",
              "</div>"
            ],
            "text/plain": [
              "         budget                                             genres  \\\n",
              "0     237000000  [{\"id\": 28, \"name\": \"Action\"}, {\"id\": 12, \"nam...   \n",
              "1     300000000  [{\"id\": 12, \"name\": \"Adventure\"}, {\"id\": 14, \"...   \n",
              "2     245000000  [{\"id\": 28, \"name\": \"Action\"}, {\"id\": 12, \"nam...   \n",
              "3     250000000  [{\"id\": 28, \"name\": \"Action\"}, {\"id\": 80, \"nam...   \n",
              "4     260000000  [{\"id\": 28, \"name\": \"Action\"}, {\"id\": 12, \"nam...   \n",
              "...         ...                                                ...   \n",
              "4804     220000  [{\"id\": 28, \"name\": \"Action\"}, {\"id\": 80, \"nam...   \n",
              "4805       9000  [{\"id\": 35, \"name\": \"Comedy\"}, {\"id\": 10749, \"...   \n",
              "4806          0  [{\"id\": 35, \"name\": \"Comedy\"}, {\"id\": 18, \"nam...   \n",
              "4807          0                                                 []   \n",
              "4808          0                [{\"id\": 99, \"name\": \"Documentary\"}]   \n",
              "\n",
              "                                               homepage      id  \\\n",
              "0                           http://www.avatarmovie.com/   19995   \n",
              "1          http://disney.go.com/disneypictures/pirates/     285   \n",
              "2           http://www.sonypictures.com/movies/spectre/  206647   \n",
              "3                    http://www.thedarkknightrises.com/   49026   \n",
              "4                  http://movies.disney.com/john-carter   49529   \n",
              "...                                                 ...     ...   \n",
              "4804                                                NaN    9367   \n",
              "4805                                                NaN   72766   \n",
              "4806  http://www.hallmarkchannel.com/signedsealeddel...  231617   \n",
              "4807                        http://shanghaicalling.com/  126186   \n",
              "4808                                                NaN   25975   \n",
              "\n",
              "                                               keywords original_language  \\\n",
              "0     [{\"id\": 1463, \"name\": \"culture clash\"}, {\"id\":...                en   \n",
              "1     [{\"id\": 270, \"name\": \"ocean\"}, {\"id\": 726, \"na...                en   \n",
              "2     [{\"id\": 470, \"name\": \"spy\"}, {\"id\": 818, \"name...                en   \n",
              "3     [{\"id\": 849, \"name\": \"dc comics\"}, {\"id\": 853,...                en   \n",
              "4     [{\"id\": 818, \"name\": \"based on novel\"}, {\"id\":...                en   \n",
              "...                                                 ...               ...   \n",
              "4804  [{\"id\": 5616, \"name\": \"united states\\u2013mexi...                es   \n",
              "4805                                                 []                en   \n",
              "4806  [{\"id\": 248, \"name\": \"date\"}, {\"id\": 699, \"nam...                en   \n",
              "4807                                                 []                en   \n",
              "4808  [{\"id\": 1523, \"name\": \"obsession\"}, {\"id\": 224...                en   \n",
              "\n",
              "                                original_title  \\\n",
              "0                                       Avatar   \n",
              "1     Pirates of the Caribbean: At World's End   \n",
              "2                                      Spectre   \n",
              "3                        The Dark Knight Rises   \n",
              "4                                  John Carter   \n",
              "...                                        ...   \n",
              "4804                               El Mariachi   \n",
              "4805                                 Newlyweds   \n",
              "4806                 Signed, Sealed, Delivered   \n",
              "4807                          Shanghai Calling   \n",
              "4808                         My Date with Drew   \n",
              "\n",
              "                                               overview  popularity  \\\n",
              "0     In the 22nd century, a paraplegic Marine is di...  150.437577   \n",
              "1     Captain Barbossa, long believed to be dead, ha...  139.082615   \n",
              "2     A cryptic message from Bond’s past sends him o...  107.376788   \n",
              "3     Following the death of District Attorney Harve...  112.312950   \n",
              "4     John Carter is a war-weary, former military ca...   43.926995   \n",
              "...                                                 ...         ...   \n",
              "4804  El Mariachi just wants to play his guitar and ...   14.269792   \n",
              "4805  A newlywed couple's honeymoon is upended by th...    0.642552   \n",
              "4806  \"Signed, Sealed, Delivered\" introduces a dedic...    1.444476   \n",
              "4807  When ambitious New York attorney Sam is sent t...    0.857008   \n",
              "4808  Ever since the second grade when he first saw ...    1.929883   \n",
              "\n",
              "                                   production_companies  ... runtime  \\\n",
              "0     [{\"name\": \"Ingenious Film Partners\", \"id\": 289...  ...   162.0   \n",
              "1     [{\"name\": \"Walt Disney Pictures\", \"id\": 2}, {\"...  ...   169.0   \n",
              "2     [{\"name\": \"Columbia Pictures\", \"id\": 5}, {\"nam...  ...   148.0   \n",
              "3     [{\"name\": \"Legendary Pictures\", \"id\": 923}, {\"...  ...   165.0   \n",
              "4           [{\"name\": \"Walt Disney Pictures\", \"id\": 2}]  ...   132.0   \n",
              "...                                                 ...  ...     ...   \n",
              "4804           [{\"name\": \"Columbia Pictures\", \"id\": 5}]  ...    81.0   \n",
              "4805                                                 []  ...    85.0   \n",
              "4806  [{\"name\": \"Front Street Pictures\", \"id\": 3958}...  ...   120.0   \n",
              "4807                                                 []  ...    98.0   \n",
              "4808  [{\"name\": \"rusty bear entertainment\", \"id\": 87...  ...    90.0   \n",
              "\n",
              "                                       spoken_languages    status  \\\n",
              "0     [{\"iso_639_1\": \"en\", \"name\": \"English\"}, {\"iso...  Released   \n",
              "1              [{\"iso_639_1\": \"en\", \"name\": \"English\"}]  Released   \n",
              "2     [{\"iso_639_1\": \"fr\", \"name\": \"Fran\\u00e7ais\"},...  Released   \n",
              "3              [{\"iso_639_1\": \"en\", \"name\": \"English\"}]  Released   \n",
              "4              [{\"iso_639_1\": \"en\", \"name\": \"English\"}]  Released   \n",
              "...                                                 ...       ...   \n",
              "4804      [{\"iso_639_1\": \"es\", \"name\": \"Espa\\u00f1ol\"}]  Released   \n",
              "4805                                                 []  Released   \n",
              "4806           [{\"iso_639_1\": \"en\", \"name\": \"English\"}]  Released   \n",
              "4807           [{\"iso_639_1\": \"en\", \"name\": \"English\"}]  Released   \n",
              "4808           [{\"iso_639_1\": \"en\", \"name\": \"English\"}]  Released   \n",
              "\n",
              "                                                tagline  \\\n",
              "0                           Enter the World of Pandora.   \n",
              "1        At the end of the world, the adventure begins.   \n",
              "2                                 A Plan No One Escapes   \n",
              "3                                       The Legend Ends   \n",
              "4                  Lost in our world, found in another.   \n",
              "...                                                 ...   \n",
              "4804  He didn't come looking for trouble, but troubl...   \n",
              "4805  A newlywed couple's honeymoon is upended by th...   \n",
              "4806                                                NaN   \n",
              "4807                           A New Yorker in Shanghai   \n",
              "4808                                                NaN   \n",
              "\n",
              "                                         title vote_average vote_count  \\\n",
              "0                                       Avatar          7.2      11800   \n",
              "1     Pirates of the Caribbean: At World's End          6.9       4500   \n",
              "2                                      Spectre          6.3       4466   \n",
              "3                        The Dark Knight Rises          7.6       9106   \n",
              "4                                  John Carter          6.1       2124   \n",
              "...                                        ...          ...        ...   \n",
              "4804                               El Mariachi          6.6        238   \n",
              "4805                                 Newlyweds          5.9          5   \n",
              "4806                 Signed, Sealed, Delivered          7.0          6   \n",
              "4807                          Shanghai Calling          5.7          7   \n",
              "4808                         My Date with Drew          6.3         16   \n",
              "\n",
              "     movie_id                                               cast  \\\n",
              "0       19995  [{\"cast_id\": 242, \"character\": \"Jake Sully\", \"...   \n",
              "1         285  [{\"cast_id\": 4, \"character\": \"Captain Jack Spa...   \n",
              "2      206647  [{\"cast_id\": 1, \"character\": \"James Bond\", \"cr...   \n",
              "3       49026  [{\"cast_id\": 2, \"character\": \"Bruce Wayne / Ba...   \n",
              "4       49529  [{\"cast_id\": 5, \"character\": \"John Carter\", \"c...   \n",
              "...       ...                                                ...   \n",
              "4804     9367  [{\"cast_id\": 1, \"character\": \"El Mariachi\", \"c...   \n",
              "4805    72766  [{\"cast_id\": 1, \"character\": \"Buzzy\", \"credit_...   \n",
              "4806   231617  [{\"cast_id\": 8, \"character\": \"Oliver O\\u2019To...   \n",
              "4807   126186  [{\"cast_id\": 3, \"character\": \"Sam\", \"credit_id...   \n",
              "4808    25975  [{\"cast_id\": 3, \"character\": \"Herself\", \"credi...   \n",
              "\n",
              "                                                   crew  \n",
              "0     [{\"credit_id\": \"52fe48009251416c750aca23\", \"de...  \n",
              "1     [{\"credit_id\": \"52fe4232c3a36847f800b579\", \"de...  \n",
              "2     [{\"credit_id\": \"54805967c3a36829b5002c41\", \"de...  \n",
              "3     [{\"credit_id\": \"52fe4781c3a36847f81398c3\", \"de...  \n",
              "4     [{\"credit_id\": \"52fe479ac3a36847f813eaa3\", \"de...  \n",
              "...                                                 ...  \n",
              "4804  [{\"credit_id\": \"52fe44eec3a36847f80b280b\", \"de...  \n",
              "4805  [{\"credit_id\": \"52fe487dc3a368484e0fb013\", \"de...  \n",
              "4806  [{\"credit_id\": \"52fe4df3c3a36847f8275ecf\", \"de...  \n",
              "4807  [{\"credit_id\": \"52fe4ad9c3a368484e16a36b\", \"de...  \n",
              "4808  [{\"credit_id\": \"58ce021b9251415a390165d9\", \"de...  \n",
              "\n",
              "[4809 rows x 23 columns]"
            ]
          },
          "execution_count": 450,
          "metadata": {},
          "output_type": "execute_result"
        }
      ],
      "source": [
        "movies_df"
      ]
    },
    {
      "cell_type": "code",
      "execution_count": null,
      "id": "7f55cb68-c43a-41cd-bed4-102f83bb876c",
      "metadata": {
        "id": "7f55cb68-c43a-41cd-bed4-102f83bb876c",
        "outputId": "697ec672-f57f-4106-b154-a2e3a82e2585"
      },
      "outputs": [
        {
          "data": {
            "text/html": [
              "<div>\n",
              "<style scoped>\n",
              "    .dataframe tbody tr th:only-of-type {\n",
              "        vertical-align: middle;\n",
              "    }\n",
              "\n",
              "    .dataframe tbody tr th {\n",
              "        vertical-align: top;\n",
              "    }\n",
              "\n",
              "    .dataframe thead th {\n",
              "        text-align: right;\n",
              "    }\n",
              "</style>\n",
              "<table border=\"1\" class=\"dataframe\">\n",
              "  <thead>\n",
              "    <tr style=\"text-align: right;\">\n",
              "      <th></th>\n",
              "      <th>movie_id</th>\n",
              "      <th>title</th>\n",
              "      <th>cast</th>\n",
              "      <th>crew</th>\n",
              "    </tr>\n",
              "  </thead>\n",
              "  <tbody>\n",
              "    <tr>\n",
              "      <th>0</th>\n",
              "      <td>19995</td>\n",
              "      <td>Avatar</td>\n",
              "      <td>[{\"cast_id\": 242, \"character\": \"Jake Sully\", \"...</td>\n",
              "      <td>[{\"credit_id\": \"52fe48009251416c750aca23\", \"de...</td>\n",
              "    </tr>\n",
              "    <tr>\n",
              "      <th>1</th>\n",
              "      <td>285</td>\n",
              "      <td>Pirates of the Caribbean: At World's End</td>\n",
              "      <td>[{\"cast_id\": 4, \"character\": \"Captain Jack Spa...</td>\n",
              "      <td>[{\"credit_id\": \"52fe4232c3a36847f800b579\", \"de...</td>\n",
              "    </tr>\n",
              "    <tr>\n",
              "      <th>2</th>\n",
              "      <td>206647</td>\n",
              "      <td>Spectre</td>\n",
              "      <td>[{\"cast_id\": 1, \"character\": \"James Bond\", \"cr...</td>\n",
              "      <td>[{\"credit_id\": \"54805967c3a36829b5002c41\", \"de...</td>\n",
              "    </tr>\n",
              "    <tr>\n",
              "      <th>3</th>\n",
              "      <td>49026</td>\n",
              "      <td>The Dark Knight Rises</td>\n",
              "      <td>[{\"cast_id\": 2, \"character\": \"Bruce Wayne / Ba...</td>\n",
              "      <td>[{\"credit_id\": \"52fe4781c3a36847f81398c3\", \"de...</td>\n",
              "    </tr>\n",
              "    <tr>\n",
              "      <th>4</th>\n",
              "      <td>49529</td>\n",
              "      <td>John Carter</td>\n",
              "      <td>[{\"cast_id\": 5, \"character\": \"John Carter\", \"c...</td>\n",
              "      <td>[{\"credit_id\": \"52fe479ac3a36847f813eaa3\", \"de...</td>\n",
              "    </tr>\n",
              "    <tr>\n",
              "      <th>...</th>\n",
              "      <td>...</td>\n",
              "      <td>...</td>\n",
              "      <td>...</td>\n",
              "      <td>...</td>\n",
              "    </tr>\n",
              "    <tr>\n",
              "      <th>4798</th>\n",
              "      <td>9367</td>\n",
              "      <td>El Mariachi</td>\n",
              "      <td>[{\"cast_id\": 1, \"character\": \"El Mariachi\", \"c...</td>\n",
              "      <td>[{\"credit_id\": \"52fe44eec3a36847f80b280b\", \"de...</td>\n",
              "    </tr>\n",
              "    <tr>\n",
              "      <th>4799</th>\n",
              "      <td>72766</td>\n",
              "      <td>Newlyweds</td>\n",
              "      <td>[{\"cast_id\": 1, \"character\": \"Buzzy\", \"credit_...</td>\n",
              "      <td>[{\"credit_id\": \"52fe487dc3a368484e0fb013\", \"de...</td>\n",
              "    </tr>\n",
              "    <tr>\n",
              "      <th>4800</th>\n",
              "      <td>231617</td>\n",
              "      <td>Signed, Sealed, Delivered</td>\n",
              "      <td>[{\"cast_id\": 8, \"character\": \"Oliver O\\u2019To...</td>\n",
              "      <td>[{\"credit_id\": \"52fe4df3c3a36847f8275ecf\", \"de...</td>\n",
              "    </tr>\n",
              "    <tr>\n",
              "      <th>4801</th>\n",
              "      <td>126186</td>\n",
              "      <td>Shanghai Calling</td>\n",
              "      <td>[{\"cast_id\": 3, \"character\": \"Sam\", \"credit_id...</td>\n",
              "      <td>[{\"credit_id\": \"52fe4ad9c3a368484e16a36b\", \"de...</td>\n",
              "    </tr>\n",
              "    <tr>\n",
              "      <th>4802</th>\n",
              "      <td>25975</td>\n",
              "      <td>My Date with Drew</td>\n",
              "      <td>[{\"cast_id\": 3, \"character\": \"Herself\", \"credi...</td>\n",
              "      <td>[{\"credit_id\": \"58ce021b9251415a390165d9\", \"de...</td>\n",
              "    </tr>\n",
              "  </tbody>\n",
              "</table>\n",
              "<p>4803 rows × 4 columns</p>\n",
              "</div>"
            ],
            "text/plain": [
              "      movie_id                                     title  \\\n",
              "0        19995                                    Avatar   \n",
              "1          285  Pirates of the Caribbean: At World's End   \n",
              "2       206647                                   Spectre   \n",
              "3        49026                     The Dark Knight Rises   \n",
              "4        49529                               John Carter   \n",
              "...        ...                                       ...   \n",
              "4798      9367                               El Mariachi   \n",
              "4799     72766                                 Newlyweds   \n",
              "4800    231617                 Signed, Sealed, Delivered   \n",
              "4801    126186                          Shanghai Calling   \n",
              "4802     25975                         My Date with Drew   \n",
              "\n",
              "                                                   cast  \\\n",
              "0     [{\"cast_id\": 242, \"character\": \"Jake Sully\", \"...   \n",
              "1     [{\"cast_id\": 4, \"character\": \"Captain Jack Spa...   \n",
              "2     [{\"cast_id\": 1, \"character\": \"James Bond\", \"cr...   \n",
              "3     [{\"cast_id\": 2, \"character\": \"Bruce Wayne / Ba...   \n",
              "4     [{\"cast_id\": 5, \"character\": \"John Carter\", \"c...   \n",
              "...                                                 ...   \n",
              "4798  [{\"cast_id\": 1, \"character\": \"El Mariachi\", \"c...   \n",
              "4799  [{\"cast_id\": 1, \"character\": \"Buzzy\", \"credit_...   \n",
              "4800  [{\"cast_id\": 8, \"character\": \"Oliver O\\u2019To...   \n",
              "4801  [{\"cast_id\": 3, \"character\": \"Sam\", \"credit_id...   \n",
              "4802  [{\"cast_id\": 3, \"character\": \"Herself\", \"credi...   \n",
              "\n",
              "                                                   crew  \n",
              "0     [{\"credit_id\": \"52fe48009251416c750aca23\", \"de...  \n",
              "1     [{\"credit_id\": \"52fe4232c3a36847f800b579\", \"de...  \n",
              "2     [{\"credit_id\": \"54805967c3a36829b5002c41\", \"de...  \n",
              "3     [{\"credit_id\": \"52fe4781c3a36847f81398c3\", \"de...  \n",
              "4     [{\"credit_id\": \"52fe479ac3a36847f813eaa3\", \"de...  \n",
              "...                                                 ...  \n",
              "4798  [{\"credit_id\": \"52fe44eec3a36847f80b280b\", \"de...  \n",
              "4799  [{\"credit_id\": \"52fe487dc3a368484e0fb013\", \"de...  \n",
              "4800  [{\"credit_id\": \"52fe4df3c3a36847f8275ecf\", \"de...  \n",
              "4801  [{\"credit_id\": \"52fe4ad9c3a368484e16a36b\", \"de...  \n",
              "4802  [{\"credit_id\": \"58ce021b9251415a390165d9\", \"de...  \n",
              "\n",
              "[4803 rows x 4 columns]"
            ]
          },
          "execution_count": 451,
          "metadata": {},
          "output_type": "execute_result"
        }
      ],
      "source": [
        "credits_df"
      ]
    },
    {
      "cell_type": "code",
      "execution_count": null,
      "id": "24aa1fc4-f93e-4f30-b46e-3b4e689ec385",
      "metadata": {
        "id": "24aa1fc4-f93e-4f30-b46e-3b4e689ec385",
        "outputId": "72982d17-398b-4167-d4a5-686a6c660909"
      },
      "outputs": [
        {
          "name": "stdout",
          "output_type": "stream",
          "text": [
            "<class 'pandas.core.frame.DataFrame'>\n",
            "RangeIndex: 4809 entries, 0 to 4808\n",
            "Data columns (total 23 columns):\n",
            " #   Column                Non-Null Count  Dtype  \n",
            "---  ------                --------------  -----  \n",
            " 0   budget                4809 non-null   int64  \n",
            " 1   genres                4809 non-null   object \n",
            " 2   homepage              1713 non-null   object \n",
            " 3   id                    4809 non-null   int64  \n",
            " 4   keywords              4809 non-null   object \n",
            " 5   original_language     4809 non-null   object \n",
            " 6   original_title        4809 non-null   object \n",
            " 7   overview              4806 non-null   object \n",
            " 8   popularity            4809 non-null   float64\n",
            " 9   production_companies  4809 non-null   object \n",
            " 10  production_countries  4809 non-null   object \n",
            " 11  release_date          4808 non-null   object \n",
            " 12  revenue               4809 non-null   int64  \n",
            " 13  runtime               4807 non-null   float64\n",
            " 14  spoken_languages      4809 non-null   object \n",
            " 15  status                4809 non-null   object \n",
            " 16  tagline               3965 non-null   object \n",
            " 17  title                 4809 non-null   object \n",
            " 18  vote_average          4809 non-null   float64\n",
            " 19  vote_count            4809 non-null   int64  \n",
            " 20  movie_id              4809 non-null   int64  \n",
            " 21  cast                  4809 non-null   object \n",
            " 22  crew                  4809 non-null   object \n",
            "dtypes: float64(3), int64(5), object(15)\n",
            "memory usage: 864.2+ KB\n"
          ]
        }
      ],
      "source": [
        "movies_df.info()"
      ]
    },
    {
      "cell_type": "code",
      "execution_count": null,
      "id": "1b060ecd-b618-4608-8878-b8724ed5f107",
      "metadata": {
        "id": "1b060ecd-b618-4608-8878-b8724ed5f107"
      },
      "outputs": [],
      "source": [
        "movies_df = movies_df[['movie_id','title','genres','overview','keywords','cast','crew']]"
      ]
    },
    {
      "cell_type": "code",
      "execution_count": null,
      "id": "a6c77ce8-d490-4a0e-a3f6-5f3031d5c93b",
      "metadata": {
        "id": "a6c77ce8-d490-4a0e-a3f6-5f3031d5c93b",
        "outputId": "9f64904e-78bc-457a-a272-1ec90e6e2f28"
      },
      "outputs": [
        {
          "data": {
            "text/html": [
              "<div>\n",
              "<style scoped>\n",
              "    .dataframe tbody tr th:only-of-type {\n",
              "        vertical-align: middle;\n",
              "    }\n",
              "\n",
              "    .dataframe tbody tr th {\n",
              "        vertical-align: top;\n",
              "    }\n",
              "\n",
              "    .dataframe thead th {\n",
              "        text-align: right;\n",
              "    }\n",
              "</style>\n",
              "<table border=\"1\" class=\"dataframe\">\n",
              "  <thead>\n",
              "    <tr style=\"text-align: right;\">\n",
              "      <th></th>\n",
              "      <th>movie_id</th>\n",
              "      <th>title</th>\n",
              "      <th>genres</th>\n",
              "      <th>overview</th>\n",
              "      <th>keywords</th>\n",
              "      <th>cast</th>\n",
              "      <th>crew</th>\n",
              "    </tr>\n",
              "  </thead>\n",
              "  <tbody>\n",
              "    <tr>\n",
              "      <th>0</th>\n",
              "      <td>19995</td>\n",
              "      <td>Avatar</td>\n",
              "      <td>[{\"id\": 28, \"name\": \"Action\"}, {\"id\": 12, \"nam...</td>\n",
              "      <td>In the 22nd century, a paraplegic Marine is di...</td>\n",
              "      <td>[{\"id\": 1463, \"name\": \"culture clash\"}, {\"id\":...</td>\n",
              "      <td>[{\"cast_id\": 242, \"character\": \"Jake Sully\", \"...</td>\n",
              "      <td>[{\"credit_id\": \"52fe48009251416c750aca23\", \"de...</td>\n",
              "    </tr>\n",
              "    <tr>\n",
              "      <th>1</th>\n",
              "      <td>285</td>\n",
              "      <td>Pirates of the Caribbean: At World's End</td>\n",
              "      <td>[{\"id\": 12, \"name\": \"Adventure\"}, {\"id\": 14, \"...</td>\n",
              "      <td>Captain Barbossa, long believed to be dead, ha...</td>\n",
              "      <td>[{\"id\": 270, \"name\": \"ocean\"}, {\"id\": 726, \"na...</td>\n",
              "      <td>[{\"cast_id\": 4, \"character\": \"Captain Jack Spa...</td>\n",
              "      <td>[{\"credit_id\": \"52fe4232c3a36847f800b579\", \"de...</td>\n",
              "    </tr>\n",
              "    <tr>\n",
              "      <th>2</th>\n",
              "      <td>206647</td>\n",
              "      <td>Spectre</td>\n",
              "      <td>[{\"id\": 28, \"name\": \"Action\"}, {\"id\": 12, \"nam...</td>\n",
              "      <td>A cryptic message from Bond’s past sends him o...</td>\n",
              "      <td>[{\"id\": 470, \"name\": \"spy\"}, {\"id\": 818, \"name...</td>\n",
              "      <td>[{\"cast_id\": 1, \"character\": \"James Bond\", \"cr...</td>\n",
              "      <td>[{\"credit_id\": \"54805967c3a36829b5002c41\", \"de...</td>\n",
              "    </tr>\n",
              "    <tr>\n",
              "      <th>3</th>\n",
              "      <td>49026</td>\n",
              "      <td>The Dark Knight Rises</td>\n",
              "      <td>[{\"id\": 28, \"name\": \"Action\"}, {\"id\": 80, \"nam...</td>\n",
              "      <td>Following the death of District Attorney Harve...</td>\n",
              "      <td>[{\"id\": 849, \"name\": \"dc comics\"}, {\"id\": 853,...</td>\n",
              "      <td>[{\"cast_id\": 2, \"character\": \"Bruce Wayne / Ba...</td>\n",
              "      <td>[{\"credit_id\": \"52fe4781c3a36847f81398c3\", \"de...</td>\n",
              "    </tr>\n",
              "    <tr>\n",
              "      <th>4</th>\n",
              "      <td>49529</td>\n",
              "      <td>John Carter</td>\n",
              "      <td>[{\"id\": 28, \"name\": \"Action\"}, {\"id\": 12, \"nam...</td>\n",
              "      <td>John Carter is a war-weary, former military ca...</td>\n",
              "      <td>[{\"id\": 818, \"name\": \"based on novel\"}, {\"id\":...</td>\n",
              "      <td>[{\"cast_id\": 5, \"character\": \"John Carter\", \"c...</td>\n",
              "      <td>[{\"credit_id\": \"52fe479ac3a36847f813eaa3\", \"de...</td>\n",
              "    </tr>\n",
              "    <tr>\n",
              "      <th>...</th>\n",
              "      <td>...</td>\n",
              "      <td>...</td>\n",
              "      <td>...</td>\n",
              "      <td>...</td>\n",
              "      <td>...</td>\n",
              "      <td>...</td>\n",
              "      <td>...</td>\n",
              "    </tr>\n",
              "    <tr>\n",
              "      <th>4804</th>\n",
              "      <td>9367</td>\n",
              "      <td>El Mariachi</td>\n",
              "      <td>[{\"id\": 28, \"name\": \"Action\"}, {\"id\": 80, \"nam...</td>\n",
              "      <td>El Mariachi just wants to play his guitar and ...</td>\n",
              "      <td>[{\"id\": 5616, \"name\": \"united states\\u2013mexi...</td>\n",
              "      <td>[{\"cast_id\": 1, \"character\": \"El Mariachi\", \"c...</td>\n",
              "      <td>[{\"credit_id\": \"52fe44eec3a36847f80b280b\", \"de...</td>\n",
              "    </tr>\n",
              "    <tr>\n",
              "      <th>4805</th>\n",
              "      <td>72766</td>\n",
              "      <td>Newlyweds</td>\n",
              "      <td>[{\"id\": 35, \"name\": \"Comedy\"}, {\"id\": 10749, \"...</td>\n",
              "      <td>A newlywed couple's honeymoon is upended by th...</td>\n",
              "      <td>[]</td>\n",
              "      <td>[{\"cast_id\": 1, \"character\": \"Buzzy\", \"credit_...</td>\n",
              "      <td>[{\"credit_id\": \"52fe487dc3a368484e0fb013\", \"de...</td>\n",
              "    </tr>\n",
              "    <tr>\n",
              "      <th>4806</th>\n",
              "      <td>231617</td>\n",
              "      <td>Signed, Sealed, Delivered</td>\n",
              "      <td>[{\"id\": 35, \"name\": \"Comedy\"}, {\"id\": 18, \"nam...</td>\n",
              "      <td>\"Signed, Sealed, Delivered\" introduces a dedic...</td>\n",
              "      <td>[{\"id\": 248, \"name\": \"date\"}, {\"id\": 699, \"nam...</td>\n",
              "      <td>[{\"cast_id\": 8, \"character\": \"Oliver O\\u2019To...</td>\n",
              "      <td>[{\"credit_id\": \"52fe4df3c3a36847f8275ecf\", \"de...</td>\n",
              "    </tr>\n",
              "    <tr>\n",
              "      <th>4807</th>\n",
              "      <td>126186</td>\n",
              "      <td>Shanghai Calling</td>\n",
              "      <td>[]</td>\n",
              "      <td>When ambitious New York attorney Sam is sent t...</td>\n",
              "      <td>[]</td>\n",
              "      <td>[{\"cast_id\": 3, \"character\": \"Sam\", \"credit_id...</td>\n",
              "      <td>[{\"credit_id\": \"52fe4ad9c3a368484e16a36b\", \"de...</td>\n",
              "    </tr>\n",
              "    <tr>\n",
              "      <th>4808</th>\n",
              "      <td>25975</td>\n",
              "      <td>My Date with Drew</td>\n",
              "      <td>[{\"id\": 99, \"name\": \"Documentary\"}]</td>\n",
              "      <td>Ever since the second grade when he first saw ...</td>\n",
              "      <td>[{\"id\": 1523, \"name\": \"obsession\"}, {\"id\": 224...</td>\n",
              "      <td>[{\"cast_id\": 3, \"character\": \"Herself\", \"credi...</td>\n",
              "      <td>[{\"credit_id\": \"58ce021b9251415a390165d9\", \"de...</td>\n",
              "    </tr>\n",
              "  </tbody>\n",
              "</table>\n",
              "<p>4809 rows × 7 columns</p>\n",
              "</div>"
            ],
            "text/plain": [
              "      movie_id                                     title  \\\n",
              "0        19995                                    Avatar   \n",
              "1          285  Pirates of the Caribbean: At World's End   \n",
              "2       206647                                   Spectre   \n",
              "3        49026                     The Dark Knight Rises   \n",
              "4        49529                               John Carter   \n",
              "...        ...                                       ...   \n",
              "4804      9367                               El Mariachi   \n",
              "4805     72766                                 Newlyweds   \n",
              "4806    231617                 Signed, Sealed, Delivered   \n",
              "4807    126186                          Shanghai Calling   \n",
              "4808     25975                         My Date with Drew   \n",
              "\n",
              "                                                 genres  \\\n",
              "0     [{\"id\": 28, \"name\": \"Action\"}, {\"id\": 12, \"nam...   \n",
              "1     [{\"id\": 12, \"name\": \"Adventure\"}, {\"id\": 14, \"...   \n",
              "2     [{\"id\": 28, \"name\": \"Action\"}, {\"id\": 12, \"nam...   \n",
              "3     [{\"id\": 28, \"name\": \"Action\"}, {\"id\": 80, \"nam...   \n",
              "4     [{\"id\": 28, \"name\": \"Action\"}, {\"id\": 12, \"nam...   \n",
              "...                                                 ...   \n",
              "4804  [{\"id\": 28, \"name\": \"Action\"}, {\"id\": 80, \"nam...   \n",
              "4805  [{\"id\": 35, \"name\": \"Comedy\"}, {\"id\": 10749, \"...   \n",
              "4806  [{\"id\": 35, \"name\": \"Comedy\"}, {\"id\": 18, \"nam...   \n",
              "4807                                                 []   \n",
              "4808                [{\"id\": 99, \"name\": \"Documentary\"}]   \n",
              "\n",
              "                                               overview  \\\n",
              "0     In the 22nd century, a paraplegic Marine is di...   \n",
              "1     Captain Barbossa, long believed to be dead, ha...   \n",
              "2     A cryptic message from Bond’s past sends him o...   \n",
              "3     Following the death of District Attorney Harve...   \n",
              "4     John Carter is a war-weary, former military ca...   \n",
              "...                                                 ...   \n",
              "4804  El Mariachi just wants to play his guitar and ...   \n",
              "4805  A newlywed couple's honeymoon is upended by th...   \n",
              "4806  \"Signed, Sealed, Delivered\" introduces a dedic...   \n",
              "4807  When ambitious New York attorney Sam is sent t...   \n",
              "4808  Ever since the second grade when he first saw ...   \n",
              "\n",
              "                                               keywords  \\\n",
              "0     [{\"id\": 1463, \"name\": \"culture clash\"}, {\"id\":...   \n",
              "1     [{\"id\": 270, \"name\": \"ocean\"}, {\"id\": 726, \"na...   \n",
              "2     [{\"id\": 470, \"name\": \"spy\"}, {\"id\": 818, \"name...   \n",
              "3     [{\"id\": 849, \"name\": \"dc comics\"}, {\"id\": 853,...   \n",
              "4     [{\"id\": 818, \"name\": \"based on novel\"}, {\"id\":...   \n",
              "...                                                 ...   \n",
              "4804  [{\"id\": 5616, \"name\": \"united states\\u2013mexi...   \n",
              "4805                                                 []   \n",
              "4806  [{\"id\": 248, \"name\": \"date\"}, {\"id\": 699, \"nam...   \n",
              "4807                                                 []   \n",
              "4808  [{\"id\": 1523, \"name\": \"obsession\"}, {\"id\": 224...   \n",
              "\n",
              "                                                   cast  \\\n",
              "0     [{\"cast_id\": 242, \"character\": \"Jake Sully\", \"...   \n",
              "1     [{\"cast_id\": 4, \"character\": \"Captain Jack Spa...   \n",
              "2     [{\"cast_id\": 1, \"character\": \"James Bond\", \"cr...   \n",
              "3     [{\"cast_id\": 2, \"character\": \"Bruce Wayne / Ba...   \n",
              "4     [{\"cast_id\": 5, \"character\": \"John Carter\", \"c...   \n",
              "...                                                 ...   \n",
              "4804  [{\"cast_id\": 1, \"character\": \"El Mariachi\", \"c...   \n",
              "4805  [{\"cast_id\": 1, \"character\": \"Buzzy\", \"credit_...   \n",
              "4806  [{\"cast_id\": 8, \"character\": \"Oliver O\\u2019To...   \n",
              "4807  [{\"cast_id\": 3, \"character\": \"Sam\", \"credit_id...   \n",
              "4808  [{\"cast_id\": 3, \"character\": \"Herself\", \"credi...   \n",
              "\n",
              "                                                   crew  \n",
              "0     [{\"credit_id\": \"52fe48009251416c750aca23\", \"de...  \n",
              "1     [{\"credit_id\": \"52fe4232c3a36847f800b579\", \"de...  \n",
              "2     [{\"credit_id\": \"54805967c3a36829b5002c41\", \"de...  \n",
              "3     [{\"credit_id\": \"52fe4781c3a36847f81398c3\", \"de...  \n",
              "4     [{\"credit_id\": \"52fe479ac3a36847f813eaa3\", \"de...  \n",
              "...                                                 ...  \n",
              "4804  [{\"credit_id\": \"52fe44eec3a36847f80b280b\", \"de...  \n",
              "4805  [{\"credit_id\": \"52fe487dc3a368484e0fb013\", \"de...  \n",
              "4806  [{\"credit_id\": \"52fe4df3c3a36847f8275ecf\", \"de...  \n",
              "4807  [{\"credit_id\": \"52fe4ad9c3a368484e16a36b\", \"de...  \n",
              "4808  [{\"credit_id\": \"58ce021b9251415a390165d9\", \"de...  \n",
              "\n",
              "[4809 rows x 7 columns]"
            ]
          },
          "execution_count": 454,
          "metadata": {},
          "output_type": "execute_result"
        }
      ],
      "source": [
        "movies_df"
      ]
    },
    {
      "cell_type": "markdown",
      "id": "0203ce18-67c5-4bea-b8ce-90df7798f51e",
      "metadata": {
        "id": "0203ce18-67c5-4bea-b8ce-90df7798f51e"
      },
      "source": [
        "# Replacing missing values"
      ]
    },
    {
      "cell_type": "code",
      "execution_count": null,
      "id": "96e284c7-282b-440b-8d42-9ab74c477797",
      "metadata": {
        "id": "96e284c7-282b-440b-8d42-9ab74c477797",
        "outputId": "b33aa169-5403-4334-de4e-a656bbec36e6"
      },
      "outputs": [
        {
          "data": {
            "text/html": [
              "<div>\n",
              "<style scoped>\n",
              "    .dataframe tbody tr th:only-of-type {\n",
              "        vertical-align: middle;\n",
              "    }\n",
              "\n",
              "    .dataframe tbody tr th {\n",
              "        vertical-align: top;\n",
              "    }\n",
              "\n",
              "    .dataframe thead th {\n",
              "        text-align: right;\n",
              "    }\n",
              "</style>\n",
              "<table border=\"1\" class=\"dataframe\">\n",
              "  <thead>\n",
              "    <tr style=\"text-align: right;\">\n",
              "      <th></th>\n",
              "      <th>movie_id</th>\n",
              "      <th>title</th>\n",
              "      <th>genres</th>\n",
              "      <th>overview</th>\n",
              "      <th>keywords</th>\n",
              "      <th>cast</th>\n",
              "      <th>crew</th>\n",
              "    </tr>\n",
              "  </thead>\n",
              "  <tbody>\n",
              "    <tr>\n",
              "      <th>0</th>\n",
              "      <td>False</td>\n",
              "      <td>False</td>\n",
              "      <td>False</td>\n",
              "      <td>False</td>\n",
              "      <td>False</td>\n",
              "      <td>False</td>\n",
              "      <td>False</td>\n",
              "    </tr>\n",
              "    <tr>\n",
              "      <th>1</th>\n",
              "      <td>False</td>\n",
              "      <td>False</td>\n",
              "      <td>False</td>\n",
              "      <td>False</td>\n",
              "      <td>False</td>\n",
              "      <td>False</td>\n",
              "      <td>False</td>\n",
              "    </tr>\n",
              "    <tr>\n",
              "      <th>2</th>\n",
              "      <td>False</td>\n",
              "      <td>False</td>\n",
              "      <td>False</td>\n",
              "      <td>False</td>\n",
              "      <td>False</td>\n",
              "      <td>False</td>\n",
              "      <td>False</td>\n",
              "    </tr>\n",
              "    <tr>\n",
              "      <th>3</th>\n",
              "      <td>False</td>\n",
              "      <td>False</td>\n",
              "      <td>False</td>\n",
              "      <td>False</td>\n",
              "      <td>False</td>\n",
              "      <td>False</td>\n",
              "      <td>False</td>\n",
              "    </tr>\n",
              "    <tr>\n",
              "      <th>4</th>\n",
              "      <td>False</td>\n",
              "      <td>False</td>\n",
              "      <td>False</td>\n",
              "      <td>False</td>\n",
              "      <td>False</td>\n",
              "      <td>False</td>\n",
              "      <td>False</td>\n",
              "    </tr>\n",
              "    <tr>\n",
              "      <th>...</th>\n",
              "      <td>...</td>\n",
              "      <td>...</td>\n",
              "      <td>...</td>\n",
              "      <td>...</td>\n",
              "      <td>...</td>\n",
              "      <td>...</td>\n",
              "      <td>...</td>\n",
              "    </tr>\n",
              "    <tr>\n",
              "      <th>4804</th>\n",
              "      <td>False</td>\n",
              "      <td>False</td>\n",
              "      <td>False</td>\n",
              "      <td>False</td>\n",
              "      <td>False</td>\n",
              "      <td>False</td>\n",
              "      <td>False</td>\n",
              "    </tr>\n",
              "    <tr>\n",
              "      <th>4805</th>\n",
              "      <td>False</td>\n",
              "      <td>False</td>\n",
              "      <td>False</td>\n",
              "      <td>False</td>\n",
              "      <td>False</td>\n",
              "      <td>False</td>\n",
              "      <td>False</td>\n",
              "    </tr>\n",
              "    <tr>\n",
              "      <th>4806</th>\n",
              "      <td>False</td>\n",
              "      <td>False</td>\n",
              "      <td>False</td>\n",
              "      <td>False</td>\n",
              "      <td>False</td>\n",
              "      <td>False</td>\n",
              "      <td>False</td>\n",
              "    </tr>\n",
              "    <tr>\n",
              "      <th>4807</th>\n",
              "      <td>False</td>\n",
              "      <td>False</td>\n",
              "      <td>False</td>\n",
              "      <td>False</td>\n",
              "      <td>False</td>\n",
              "      <td>False</td>\n",
              "      <td>False</td>\n",
              "    </tr>\n",
              "    <tr>\n",
              "      <th>4808</th>\n",
              "      <td>False</td>\n",
              "      <td>False</td>\n",
              "      <td>False</td>\n",
              "      <td>False</td>\n",
              "      <td>False</td>\n",
              "      <td>False</td>\n",
              "      <td>False</td>\n",
              "    </tr>\n",
              "  </tbody>\n",
              "</table>\n",
              "<p>4809 rows × 7 columns</p>\n",
              "</div>"
            ],
            "text/plain": [
              "      movie_id  title  genres  overview  keywords   cast   crew\n",
              "0        False  False   False     False     False  False  False\n",
              "1        False  False   False     False     False  False  False\n",
              "2        False  False   False     False     False  False  False\n",
              "3        False  False   False     False     False  False  False\n",
              "4        False  False   False     False     False  False  False\n",
              "...        ...    ...     ...       ...       ...    ...    ...\n",
              "4804     False  False   False     False     False  False  False\n",
              "4805     False  False   False     False     False  False  False\n",
              "4806     False  False   False     False     False  False  False\n",
              "4807     False  False   False     False     False  False  False\n",
              "4808     False  False   False     False     False  False  False\n",
              "\n",
              "[4809 rows x 7 columns]"
            ]
          },
          "execution_count": 455,
          "metadata": {},
          "output_type": "execute_result"
        }
      ],
      "source": [
        "movies_df.isnull()"
      ]
    },
    {
      "cell_type": "code",
      "execution_count": null,
      "id": "a504fa65-5bef-4ce8-957a-c9c4b6973cf4",
      "metadata": {
        "id": "a504fa65-5bef-4ce8-957a-c9c4b6973cf4",
        "outputId": "e01daad7-1911-42da-a0ef-61dfc1e9e1e1"
      },
      "outputs": [
        {
          "data": {
            "text/plain": [
              "movie_id    0\n",
              "title       0\n",
              "genres      0\n",
              "overview    3\n",
              "keywords    0\n",
              "cast        0\n",
              "crew        0\n",
              "dtype: int64"
            ]
          },
          "execution_count": 456,
          "metadata": {},
          "output_type": "execute_result"
        }
      ],
      "source": [
        "movies_df.isnull().sum()"
      ]
    },
    {
      "cell_type": "code",
      "execution_count": null,
      "id": "3e774b69-535b-4c6b-a404-3274edb287d3",
      "metadata": {
        "id": "3e774b69-535b-4c6b-a404-3274edb287d3",
        "outputId": "6f872b67-e72f-464d-d7a7-ba9782a939be"
      },
      "outputs": [
        {
          "name": "stderr",
          "output_type": "stream",
          "text": [
            "C:\\Users\\Hrithick\\AppData\\Local\\Temp\\ipykernel_2744\\3994261948.py:1: SettingWithCopyWarning: \n",
            "A value is trying to be set on a copy of a slice from a DataFrame\n",
            "\n",
            "See the caveats in the documentation: https://pandas.pydata.org/pandas-docs/stable/user_guide/indexing.html#returning-a-view-versus-a-copy\n",
            "  movies_df.dropna(inplace= True)\n"
          ]
        }
      ],
      "source": [
        "movies_df.dropna(inplace= True)"
      ]
    },
    {
      "cell_type": "code",
      "execution_count": null,
      "id": "9d5c031e-1013-4e6e-8564-1ea8fb539534",
      "metadata": {
        "id": "9d5c031e-1013-4e6e-8564-1ea8fb539534",
        "outputId": "34be1e43-d52a-4184-b739-5a46056ec9b7"
      },
      "outputs": [
        {
          "data": {
            "text/plain": [
              "0"
            ]
          },
          "execution_count": 458,
          "metadata": {},
          "output_type": "execute_result"
        }
      ],
      "source": [
        "movies_df.duplicated().sum()"
      ]
    },
    {
      "cell_type": "code",
      "execution_count": null,
      "id": "f72fb26b-416d-4f3e-8fc3-878d668d4319",
      "metadata": {
        "id": "f72fb26b-416d-4f3e-8fc3-878d668d4319",
        "outputId": "004bd535-b5a6-4a07-d515-eab28bb59f38"
      },
      "outputs": [
        {
          "data": {
            "text/plain": [
              "'[{\"id\": 28, \"name\": \"Action\"}, {\"id\": 12, \"name\": \"Adventure\"}, {\"id\": 14, \"name\": \"Fantasy\"}, {\"id\": 878, \"name\": \"Science Fiction\"}]'"
            ]
          },
          "execution_count": 459,
          "metadata": {},
          "output_type": "execute_result"
        }
      ],
      "source": [
        "movies_df.iloc[0].genres"
      ]
    },
    {
      "cell_type": "code",
      "execution_count": null,
      "id": "88f9274e-3d65-49bc-8b8c-e1b7b92044a1",
      "metadata": {
        "id": "88f9274e-3d65-49bc-8b8c-e1b7b92044a1"
      },
      "outputs": [],
      "source": [
        "import ast"
      ]
    },
    {
      "cell_type": "code",
      "execution_count": null,
      "id": "16d52f75-bb98-4a7e-b3a7-44659c75ced3",
      "metadata": {
        "id": "16d52f75-bb98-4a7e-b3a7-44659c75ced3"
      },
      "outputs": [],
      "source": [
        "def convert(obj):\n",
        "    L=[]\n",
        "    for i in ast.literal_eval(obj):\n",
        "            L.append(i['name'])\n",
        "    return L"
      ]
    },
    {
      "cell_type": "code",
      "execution_count": null,
      "id": "577c1e61-1294-475e-b4dc-01a93b290ad1",
      "metadata": {
        "id": "577c1e61-1294-475e-b4dc-01a93b290ad1",
        "outputId": "b1d327b2-545c-469c-ad1b-d7a4a94344c7"
      },
      "outputs": [
        {
          "name": "stderr",
          "output_type": "stream",
          "text": [
            "C:\\Users\\Hrithick\\AppData\\Local\\Temp\\ipykernel_2744\\4027470656.py:1: SettingWithCopyWarning: \n",
            "A value is trying to be set on a copy of a slice from a DataFrame.\n",
            "Try using .loc[row_indexer,col_indexer] = value instead\n",
            "\n",
            "See the caveats in the documentation: https://pandas.pydata.org/pandas-docs/stable/user_guide/indexing.html#returning-a-view-versus-a-copy\n",
            "  movies_df['genres']= movies_df['genres'].apply(convert)\n",
            "C:\\Users\\Hrithick\\AppData\\Local\\Temp\\ipykernel_2744\\4027470656.py:2: SettingWithCopyWarning: \n",
            "A value is trying to be set on a copy of a slice from a DataFrame.\n",
            "Try using .loc[row_indexer,col_indexer] = value instead\n",
            "\n",
            "See the caveats in the documentation: https://pandas.pydata.org/pandas-docs/stable/user_guide/indexing.html#returning-a-view-versus-a-copy\n",
            "  movies_df['keywords']= movies_df['keywords'].apply(convert)\n"
          ]
        },
        {
          "data": {
            "text/html": [
              "<div>\n",
              "<style scoped>\n",
              "    .dataframe tbody tr th:only-of-type {\n",
              "        vertical-align: middle;\n",
              "    }\n",
              "\n",
              "    .dataframe tbody tr th {\n",
              "        vertical-align: top;\n",
              "    }\n",
              "\n",
              "    .dataframe thead th {\n",
              "        text-align: right;\n",
              "    }\n",
              "</style>\n",
              "<table border=\"1\" class=\"dataframe\">\n",
              "  <thead>\n",
              "    <tr style=\"text-align: right;\">\n",
              "      <th></th>\n",
              "      <th>movie_id</th>\n",
              "      <th>title</th>\n",
              "      <th>genres</th>\n",
              "      <th>overview</th>\n",
              "      <th>keywords</th>\n",
              "      <th>cast</th>\n",
              "      <th>crew</th>\n",
              "    </tr>\n",
              "  </thead>\n",
              "  <tbody>\n",
              "    <tr>\n",
              "      <th>0</th>\n",
              "      <td>19995</td>\n",
              "      <td>Avatar</td>\n",
              "      <td>[Action, Adventure, Fantasy, Science Fiction]</td>\n",
              "      <td>In the 22nd century, a paraplegic Marine is di...</td>\n",
              "      <td>[culture clash, future, space war, space colon...</td>\n",
              "      <td>[{\"cast_id\": 242, \"character\": \"Jake Sully\", \"...</td>\n",
              "      <td>[{\"credit_id\": \"52fe48009251416c750aca23\", \"de...</td>\n",
              "    </tr>\n",
              "    <tr>\n",
              "      <th>1</th>\n",
              "      <td>285</td>\n",
              "      <td>Pirates of the Caribbean: At World's End</td>\n",
              "      <td>[Adventure, Fantasy, Action]</td>\n",
              "      <td>Captain Barbossa, long believed to be dead, ha...</td>\n",
              "      <td>[ocean, drug abuse, exotic island, east india ...</td>\n",
              "      <td>[{\"cast_id\": 4, \"character\": \"Captain Jack Spa...</td>\n",
              "      <td>[{\"credit_id\": \"52fe4232c3a36847f800b579\", \"de...</td>\n",
              "    </tr>\n",
              "    <tr>\n",
              "      <th>2</th>\n",
              "      <td>206647</td>\n",
              "      <td>Spectre</td>\n",
              "      <td>[Action, Adventure, Crime]</td>\n",
              "      <td>A cryptic message from Bond’s past sends him o...</td>\n",
              "      <td>[spy, based on novel, secret agent, sequel, mi...</td>\n",
              "      <td>[{\"cast_id\": 1, \"character\": \"James Bond\", \"cr...</td>\n",
              "      <td>[{\"credit_id\": \"54805967c3a36829b5002c41\", \"de...</td>\n",
              "    </tr>\n",
              "    <tr>\n",
              "      <th>3</th>\n",
              "      <td>49026</td>\n",
              "      <td>The Dark Knight Rises</td>\n",
              "      <td>[Action, Crime, Drama, Thriller]</td>\n",
              "      <td>Following the death of District Attorney Harve...</td>\n",
              "      <td>[dc comics, crime fighter, terrorist, secret i...</td>\n",
              "      <td>[{\"cast_id\": 2, \"character\": \"Bruce Wayne / Ba...</td>\n",
              "      <td>[{\"credit_id\": \"52fe4781c3a36847f81398c3\", \"de...</td>\n",
              "    </tr>\n",
              "    <tr>\n",
              "      <th>4</th>\n",
              "      <td>49529</td>\n",
              "      <td>John Carter</td>\n",
              "      <td>[Action, Adventure, Science Fiction]</td>\n",
              "      <td>John Carter is a war-weary, former military ca...</td>\n",
              "      <td>[based on novel, mars, medallion, space travel...</td>\n",
              "      <td>[{\"cast_id\": 5, \"character\": \"John Carter\", \"c...</td>\n",
              "      <td>[{\"credit_id\": \"52fe479ac3a36847f813eaa3\", \"de...</td>\n",
              "    </tr>\n",
              "  </tbody>\n",
              "</table>\n",
              "</div>"
            ],
            "text/plain": [
              "   movie_id                                     title  \\\n",
              "0     19995                                    Avatar   \n",
              "1       285  Pirates of the Caribbean: At World's End   \n",
              "2    206647                                   Spectre   \n",
              "3     49026                     The Dark Knight Rises   \n",
              "4     49529                               John Carter   \n",
              "\n",
              "                                          genres  \\\n",
              "0  [Action, Adventure, Fantasy, Science Fiction]   \n",
              "1                   [Adventure, Fantasy, Action]   \n",
              "2                     [Action, Adventure, Crime]   \n",
              "3               [Action, Crime, Drama, Thriller]   \n",
              "4           [Action, Adventure, Science Fiction]   \n",
              "\n",
              "                                            overview  \\\n",
              "0  In the 22nd century, a paraplegic Marine is di...   \n",
              "1  Captain Barbossa, long believed to be dead, ha...   \n",
              "2  A cryptic message from Bond’s past sends him o...   \n",
              "3  Following the death of District Attorney Harve...   \n",
              "4  John Carter is a war-weary, former military ca...   \n",
              "\n",
              "                                            keywords  \\\n",
              "0  [culture clash, future, space war, space colon...   \n",
              "1  [ocean, drug abuse, exotic island, east india ...   \n",
              "2  [spy, based on novel, secret agent, sequel, mi...   \n",
              "3  [dc comics, crime fighter, terrorist, secret i...   \n",
              "4  [based on novel, mars, medallion, space travel...   \n",
              "\n",
              "                                                cast  \\\n",
              "0  [{\"cast_id\": 242, \"character\": \"Jake Sully\", \"...   \n",
              "1  [{\"cast_id\": 4, \"character\": \"Captain Jack Spa...   \n",
              "2  [{\"cast_id\": 1, \"character\": \"James Bond\", \"cr...   \n",
              "3  [{\"cast_id\": 2, \"character\": \"Bruce Wayne / Ba...   \n",
              "4  [{\"cast_id\": 5, \"character\": \"John Carter\", \"c...   \n",
              "\n",
              "                                                crew  \n",
              "0  [{\"credit_id\": \"52fe48009251416c750aca23\", \"de...  \n",
              "1  [{\"credit_id\": \"52fe4232c3a36847f800b579\", \"de...  \n",
              "2  [{\"credit_id\": \"54805967c3a36829b5002c41\", \"de...  \n",
              "3  [{\"credit_id\": \"52fe4781c3a36847f81398c3\", \"de...  \n",
              "4  [{\"credit_id\": \"52fe479ac3a36847f813eaa3\", \"de...  "
            ]
          },
          "execution_count": 462,
          "metadata": {},
          "output_type": "execute_result"
        }
      ],
      "source": [
        "movies_df['genres']= movies_df['genres'].apply(convert)\n",
        "movies_df['keywords']= movies_df['keywords'].apply(convert)\n",
        "movies_df.head()"
      ]
    },
    {
      "cell_type": "code",
      "execution_count": null,
      "id": "a12218d2-30af-406c-9d01-a5d20d4b606f",
      "metadata": {
        "id": "a12218d2-30af-406c-9d01-a5d20d4b606f",
        "outputId": "e37c2c9a-e6c3-4ad7-86ac-b2fff93219eb"
      },
      "outputs": [
        {
          "name": "stdout",
          "output_type": "stream",
          "text": [
            "<class 'pandas.core.frame.DataFrame'>\n",
            "Index: 4806 entries, 0 to 4808\n",
            "Data columns (total 7 columns):\n",
            " #   Column    Non-Null Count  Dtype \n",
            "---  ------    --------------  ----- \n",
            " 0   movie_id  4806 non-null   int64 \n",
            " 1   title     4806 non-null   object\n",
            " 2   genres    4806 non-null   object\n",
            " 3   overview  4806 non-null   object\n",
            " 4   keywords  4806 non-null   object\n",
            " 5   cast      4806 non-null   object\n",
            " 6   crew      4806 non-null   object\n",
            "dtypes: int64(1), object(6)\n",
            "memory usage: 300.4+ KB\n"
          ]
        }
      ],
      "source": [
        "movies_df.info()"
      ]
    },
    {
      "cell_type": "code",
      "execution_count": null,
      "id": "234ff5e6-7aa6-4d90-9c91-a40d6a401cbd",
      "metadata": {
        "id": "234ff5e6-7aa6-4d90-9c91-a40d6a401cbd"
      },
      "outputs": [],
      "source": [
        "def convert3(obj):\n",
        "    L=[]\n",
        "    count=0\n",
        "    for i in ast.literal_eval(obj):\n",
        "        if count !=3:\n",
        "            L.append(i['name'])\n",
        "            count +=1\n",
        "        else:\n",
        "            break\n",
        "    return L"
      ]
    },
    {
      "cell_type": "code",
      "execution_count": null,
      "id": "dbbac22f-f4ce-4e91-81be-c0660fc9a206",
      "metadata": {
        "id": "dbbac22f-f4ce-4e91-81be-c0660fc9a206",
        "outputId": "e0c96aa8-c786-433f-bd65-27e39ce9726c"
      },
      "outputs": [
        {
          "name": "stderr",
          "output_type": "stream",
          "text": [
            "C:\\Users\\Hrithick\\AppData\\Local\\Temp\\ipykernel_2744\\3027106679.py:1: SettingWithCopyWarning: \n",
            "A value is trying to be set on a copy of a slice from a DataFrame.\n",
            "Try using .loc[row_indexer,col_indexer] = value instead\n",
            "\n",
            "See the caveats in the documentation: https://pandas.pydata.org/pandas-docs/stable/user_guide/indexing.html#returning-a-view-versus-a-copy\n",
            "  movies_df['cast']= movies_df['cast'].apply(convert3)\n"
          ]
        }
      ],
      "source": [
        "movies_df['cast']= movies_df['cast'].apply(convert3)"
      ]
    },
    {
      "cell_type": "code",
      "execution_count": null,
      "id": "febd6130-9716-4bfc-9a37-97f78680b240",
      "metadata": {
        "id": "febd6130-9716-4bfc-9a37-97f78680b240",
        "outputId": "2e0519e8-c15c-4753-97a9-3aeebd657f9d"
      },
      "outputs": [
        {
          "data": {
            "text/html": [
              "<div>\n",
              "<style scoped>\n",
              "    .dataframe tbody tr th:only-of-type {\n",
              "        vertical-align: middle;\n",
              "    }\n",
              "\n",
              "    .dataframe tbody tr th {\n",
              "        vertical-align: top;\n",
              "    }\n",
              "\n",
              "    .dataframe thead th {\n",
              "        text-align: right;\n",
              "    }\n",
              "</style>\n",
              "<table border=\"1\" class=\"dataframe\">\n",
              "  <thead>\n",
              "    <tr style=\"text-align: right;\">\n",
              "      <th></th>\n",
              "      <th>movie_id</th>\n",
              "      <th>title</th>\n",
              "      <th>genres</th>\n",
              "      <th>overview</th>\n",
              "      <th>keywords</th>\n",
              "      <th>cast</th>\n",
              "      <th>crew</th>\n",
              "    </tr>\n",
              "  </thead>\n",
              "  <tbody>\n",
              "    <tr>\n",
              "      <th>0</th>\n",
              "      <td>19995</td>\n",
              "      <td>Avatar</td>\n",
              "      <td>[Action, Adventure, Fantasy, Science Fiction]</td>\n",
              "      <td>In the 22nd century, a paraplegic Marine is di...</td>\n",
              "      <td>[culture clash, future, space war, space colon...</td>\n",
              "      <td>[Sam Worthington, Zoe Saldana, Sigourney Weaver]</td>\n",
              "      <td>[{\"credit_id\": \"52fe48009251416c750aca23\", \"de...</td>\n",
              "    </tr>\n",
              "    <tr>\n",
              "      <th>1</th>\n",
              "      <td>285</td>\n",
              "      <td>Pirates of the Caribbean: At World's End</td>\n",
              "      <td>[Adventure, Fantasy, Action]</td>\n",
              "      <td>Captain Barbossa, long believed to be dead, ha...</td>\n",
              "      <td>[ocean, drug abuse, exotic island, east india ...</td>\n",
              "      <td>[Johnny Depp, Orlando Bloom, Keira Knightley]</td>\n",
              "      <td>[{\"credit_id\": \"52fe4232c3a36847f800b579\", \"de...</td>\n",
              "    </tr>\n",
              "    <tr>\n",
              "      <th>2</th>\n",
              "      <td>206647</td>\n",
              "      <td>Spectre</td>\n",
              "      <td>[Action, Adventure, Crime]</td>\n",
              "      <td>A cryptic message from Bond’s past sends him o...</td>\n",
              "      <td>[spy, based on novel, secret agent, sequel, mi...</td>\n",
              "      <td>[Daniel Craig, Christoph Waltz, Léa Seydoux]</td>\n",
              "      <td>[{\"credit_id\": \"54805967c3a36829b5002c41\", \"de...</td>\n",
              "    </tr>\n",
              "    <tr>\n",
              "      <th>3</th>\n",
              "      <td>49026</td>\n",
              "      <td>The Dark Knight Rises</td>\n",
              "      <td>[Action, Crime, Drama, Thriller]</td>\n",
              "      <td>Following the death of District Attorney Harve...</td>\n",
              "      <td>[dc comics, crime fighter, terrorist, secret i...</td>\n",
              "      <td>[Christian Bale, Michael Caine, Gary Oldman]</td>\n",
              "      <td>[{\"credit_id\": \"52fe4781c3a36847f81398c3\", \"de...</td>\n",
              "    </tr>\n",
              "    <tr>\n",
              "      <th>4</th>\n",
              "      <td>49529</td>\n",
              "      <td>John Carter</td>\n",
              "      <td>[Action, Adventure, Science Fiction]</td>\n",
              "      <td>John Carter is a war-weary, former military ca...</td>\n",
              "      <td>[based on novel, mars, medallion, space travel...</td>\n",
              "      <td>[Taylor Kitsch, Lynn Collins, Samantha Morton]</td>\n",
              "      <td>[{\"credit_id\": \"52fe479ac3a36847f813eaa3\", \"de...</td>\n",
              "    </tr>\n",
              "  </tbody>\n",
              "</table>\n",
              "</div>"
            ],
            "text/plain": [
              "   movie_id                                     title  \\\n",
              "0     19995                                    Avatar   \n",
              "1       285  Pirates of the Caribbean: At World's End   \n",
              "2    206647                                   Spectre   \n",
              "3     49026                     The Dark Knight Rises   \n",
              "4     49529                               John Carter   \n",
              "\n",
              "                                          genres  \\\n",
              "0  [Action, Adventure, Fantasy, Science Fiction]   \n",
              "1                   [Adventure, Fantasy, Action]   \n",
              "2                     [Action, Adventure, Crime]   \n",
              "3               [Action, Crime, Drama, Thriller]   \n",
              "4           [Action, Adventure, Science Fiction]   \n",
              "\n",
              "                                            overview  \\\n",
              "0  In the 22nd century, a paraplegic Marine is di...   \n",
              "1  Captain Barbossa, long believed to be dead, ha...   \n",
              "2  A cryptic message from Bond’s past sends him o...   \n",
              "3  Following the death of District Attorney Harve...   \n",
              "4  John Carter is a war-weary, former military ca...   \n",
              "\n",
              "                                            keywords  \\\n",
              "0  [culture clash, future, space war, space colon...   \n",
              "1  [ocean, drug abuse, exotic island, east india ...   \n",
              "2  [spy, based on novel, secret agent, sequel, mi...   \n",
              "3  [dc comics, crime fighter, terrorist, secret i...   \n",
              "4  [based on novel, mars, medallion, space travel...   \n",
              "\n",
              "                                               cast  \\\n",
              "0  [Sam Worthington, Zoe Saldana, Sigourney Weaver]   \n",
              "1     [Johnny Depp, Orlando Bloom, Keira Knightley]   \n",
              "2      [Daniel Craig, Christoph Waltz, Léa Seydoux]   \n",
              "3      [Christian Bale, Michael Caine, Gary Oldman]   \n",
              "4    [Taylor Kitsch, Lynn Collins, Samantha Morton]   \n",
              "\n",
              "                                                crew  \n",
              "0  [{\"credit_id\": \"52fe48009251416c750aca23\", \"de...  \n",
              "1  [{\"credit_id\": \"52fe4232c3a36847f800b579\", \"de...  \n",
              "2  [{\"credit_id\": \"54805967c3a36829b5002c41\", \"de...  \n",
              "3  [{\"credit_id\": \"52fe4781c3a36847f81398c3\", \"de...  \n",
              "4  [{\"credit_id\": \"52fe479ac3a36847f813eaa3\", \"de...  "
            ]
          },
          "execution_count": 466,
          "metadata": {},
          "output_type": "execute_result"
        }
      ],
      "source": [
        "movies_df.head(5)"
      ]
    },
    {
      "cell_type": "code",
      "execution_count": null,
      "id": "90f29160-fa8c-460d-bca6-3bfb8622b224",
      "metadata": {
        "id": "90f29160-fa8c-460d-bca6-3bfb8622b224"
      },
      "outputs": [],
      "source": [
        "def dir(obj):\n",
        "    L=[]\n",
        "    for i in ast.literal_eval(obj):\n",
        "        if i['job']== 'Director':\n",
        "            L.append(i['name'])\n",
        "        else:\n",
        "            break\n",
        "    return L"
      ]
    },
    {
      "cell_type": "code",
      "execution_count": null,
      "id": "f5431964-2f76-40c0-8082-f28a4c570251",
      "metadata": {
        "id": "f5431964-2f76-40c0-8082-f28a4c570251",
        "outputId": "1cb8b784-8409-42eb-853a-d7bccef8091e"
      },
      "outputs": [
        {
          "name": "stderr",
          "output_type": "stream",
          "text": [
            "C:\\Users\\Hrithick\\AppData\\Local\\Temp\\ipykernel_2744\\3002904992.py:1: SettingWithCopyWarning: \n",
            "A value is trying to be set on a copy of a slice from a DataFrame.\n",
            "Try using .loc[row_indexer,col_indexer] = value instead\n",
            "\n",
            "See the caveats in the documentation: https://pandas.pydata.org/pandas-docs/stable/user_guide/indexing.html#returning-a-view-versus-a-copy\n",
            "  movies_df['crew']= movies_df['crew'].apply(dir)\n"
          ]
        }
      ],
      "source": [
        "movies_df['crew']= movies_df['crew'].apply(dir)"
      ]
    },
    {
      "cell_type": "code",
      "execution_count": null,
      "id": "f402f479-4a02-480c-be75-cd84fc2859b7",
      "metadata": {
        "id": "f402f479-4a02-480c-be75-cd84fc2859b7",
        "outputId": "af03b3c2-380d-4a4f-cda7-58b08a995359"
      },
      "outputs": [
        {
          "data": {
            "text/html": [
              "<div>\n",
              "<style scoped>\n",
              "    .dataframe tbody tr th:only-of-type {\n",
              "        vertical-align: middle;\n",
              "    }\n",
              "\n",
              "    .dataframe tbody tr th {\n",
              "        vertical-align: top;\n",
              "    }\n",
              "\n",
              "    .dataframe thead th {\n",
              "        text-align: right;\n",
              "    }\n",
              "</style>\n",
              "<table border=\"1\" class=\"dataframe\">\n",
              "  <thead>\n",
              "    <tr style=\"text-align: right;\">\n",
              "      <th></th>\n",
              "      <th>movie_id</th>\n",
              "      <th>title</th>\n",
              "      <th>genres</th>\n",
              "      <th>overview</th>\n",
              "      <th>keywords</th>\n",
              "      <th>cast</th>\n",
              "      <th>crew</th>\n",
              "    </tr>\n",
              "  </thead>\n",
              "  <tbody>\n",
              "    <tr>\n",
              "      <th>0</th>\n",
              "      <td>19995</td>\n",
              "      <td>Avatar</td>\n",
              "      <td>[Action, Adventure, Fantasy, Science Fiction]</td>\n",
              "      <td>In the 22nd century, a paraplegic Marine is di...</td>\n",
              "      <td>[culture clash, future, space war, space colon...</td>\n",
              "      <td>[Sam Worthington, Zoe Saldana, Sigourney Weaver]</td>\n",
              "      <td>[]</td>\n",
              "    </tr>\n",
              "    <tr>\n",
              "      <th>1</th>\n",
              "      <td>285</td>\n",
              "      <td>Pirates of the Caribbean: At World's End</td>\n",
              "      <td>[Adventure, Fantasy, Action]</td>\n",
              "      <td>Captain Barbossa, long believed to be dead, ha...</td>\n",
              "      <td>[ocean, drug abuse, exotic island, east india ...</td>\n",
              "      <td>[Johnny Depp, Orlando Bloom, Keira Knightley]</td>\n",
              "      <td>[]</td>\n",
              "    </tr>\n",
              "    <tr>\n",
              "      <th>2</th>\n",
              "      <td>206647</td>\n",
              "      <td>Spectre</td>\n",
              "      <td>[Action, Adventure, Crime]</td>\n",
              "      <td>A cryptic message from Bond’s past sends him o...</td>\n",
              "      <td>[spy, based on novel, secret agent, sequel, mi...</td>\n",
              "      <td>[Daniel Craig, Christoph Waltz, Léa Seydoux]</td>\n",
              "      <td>[]</td>\n",
              "    </tr>\n",
              "    <tr>\n",
              "      <th>3</th>\n",
              "      <td>49026</td>\n",
              "      <td>The Dark Knight Rises</td>\n",
              "      <td>[Action, Crime, Drama, Thriller]</td>\n",
              "      <td>Following the death of District Attorney Harve...</td>\n",
              "      <td>[dc comics, crime fighter, terrorist, secret i...</td>\n",
              "      <td>[Christian Bale, Michael Caine, Gary Oldman]</td>\n",
              "      <td>[]</td>\n",
              "    </tr>\n",
              "    <tr>\n",
              "      <th>4</th>\n",
              "      <td>49529</td>\n",
              "      <td>John Carter</td>\n",
              "      <td>[Action, Adventure, Science Fiction]</td>\n",
              "      <td>John Carter is a war-weary, former military ca...</td>\n",
              "      <td>[based on novel, mars, medallion, space travel...</td>\n",
              "      <td>[Taylor Kitsch, Lynn Collins, Samantha Morton]</td>\n",
              "      <td>[]</td>\n",
              "    </tr>\n",
              "    <tr>\n",
              "      <th>...</th>\n",
              "      <td>...</td>\n",
              "      <td>...</td>\n",
              "      <td>...</td>\n",
              "      <td>...</td>\n",
              "      <td>...</td>\n",
              "      <td>...</td>\n",
              "      <td>...</td>\n",
              "    </tr>\n",
              "    <tr>\n",
              "      <th>4804</th>\n",
              "      <td>9367</td>\n",
              "      <td>El Mariachi</td>\n",
              "      <td>[Action, Crime, Thriller]</td>\n",
              "      <td>El Mariachi just wants to play his guitar and ...</td>\n",
              "      <td>[united states–mexico barrier, legs, arms, pap...</td>\n",
              "      <td>[Carlos Gallardo, Jaime de Hoyos, Peter Marqua...</td>\n",
              "      <td>[Robert Rodriguez]</td>\n",
              "    </tr>\n",
              "    <tr>\n",
              "      <th>4805</th>\n",
              "      <td>72766</td>\n",
              "      <td>Newlyweds</td>\n",
              "      <td>[Comedy, Romance]</td>\n",
              "      <td>A newlywed couple's honeymoon is upended by th...</td>\n",
              "      <td>[]</td>\n",
              "      <td>[Edward Burns, Kerry Bishé, Marsha Dietlein]</td>\n",
              "      <td>[Edward Burns]</td>\n",
              "    </tr>\n",
              "    <tr>\n",
              "      <th>4806</th>\n",
              "      <td>231617</td>\n",
              "      <td>Signed, Sealed, Delivered</td>\n",
              "      <td>[Comedy, Drama, Romance, TV Movie]</td>\n",
              "      <td>\"Signed, Sealed, Delivered\" introduces a dedic...</td>\n",
              "      <td>[date, love at first sight, narration, investi...</td>\n",
              "      <td>[Eric Mabius, Kristin Booth, Crystal Lowe]</td>\n",
              "      <td>[]</td>\n",
              "    </tr>\n",
              "    <tr>\n",
              "      <th>4807</th>\n",
              "      <td>126186</td>\n",
              "      <td>Shanghai Calling</td>\n",
              "      <td>[]</td>\n",
              "      <td>When ambitious New York attorney Sam is sent t...</td>\n",
              "      <td>[]</td>\n",
              "      <td>[Daniel Henney, Eliza Coupe, Bill Paxton]</td>\n",
              "      <td>[Daniel Hsia]</td>\n",
              "    </tr>\n",
              "    <tr>\n",
              "      <th>4808</th>\n",
              "      <td>25975</td>\n",
              "      <td>My Date with Drew</td>\n",
              "      <td>[Documentary]</td>\n",
              "      <td>Ever since the second grade when he first saw ...</td>\n",
              "      <td>[obsession, camcorder, crush, dream girl]</td>\n",
              "      <td>[Drew Barrymore, Brian Herzlinger, Corey Feldman]</td>\n",
              "      <td>[]</td>\n",
              "    </tr>\n",
              "  </tbody>\n",
              "</table>\n",
              "<p>4806 rows × 7 columns</p>\n",
              "</div>"
            ],
            "text/plain": [
              "      movie_id                                     title  \\\n",
              "0        19995                                    Avatar   \n",
              "1          285  Pirates of the Caribbean: At World's End   \n",
              "2       206647                                   Spectre   \n",
              "3        49026                     The Dark Knight Rises   \n",
              "4        49529                               John Carter   \n",
              "...        ...                                       ...   \n",
              "4804      9367                               El Mariachi   \n",
              "4805     72766                                 Newlyweds   \n",
              "4806    231617                 Signed, Sealed, Delivered   \n",
              "4807    126186                          Shanghai Calling   \n",
              "4808     25975                         My Date with Drew   \n",
              "\n",
              "                                             genres  \\\n",
              "0     [Action, Adventure, Fantasy, Science Fiction]   \n",
              "1                      [Adventure, Fantasy, Action]   \n",
              "2                        [Action, Adventure, Crime]   \n",
              "3                  [Action, Crime, Drama, Thriller]   \n",
              "4              [Action, Adventure, Science Fiction]   \n",
              "...                                             ...   \n",
              "4804                      [Action, Crime, Thriller]   \n",
              "4805                              [Comedy, Romance]   \n",
              "4806             [Comedy, Drama, Romance, TV Movie]   \n",
              "4807                                             []   \n",
              "4808                                  [Documentary]   \n",
              "\n",
              "                                               overview  \\\n",
              "0     In the 22nd century, a paraplegic Marine is di...   \n",
              "1     Captain Barbossa, long believed to be dead, ha...   \n",
              "2     A cryptic message from Bond’s past sends him o...   \n",
              "3     Following the death of District Attorney Harve...   \n",
              "4     John Carter is a war-weary, former military ca...   \n",
              "...                                                 ...   \n",
              "4804  El Mariachi just wants to play his guitar and ...   \n",
              "4805  A newlywed couple's honeymoon is upended by th...   \n",
              "4806  \"Signed, Sealed, Delivered\" introduces a dedic...   \n",
              "4807  When ambitious New York attorney Sam is sent t...   \n",
              "4808  Ever since the second grade when he first saw ...   \n",
              "\n",
              "                                               keywords  \\\n",
              "0     [culture clash, future, space war, space colon...   \n",
              "1     [ocean, drug abuse, exotic island, east india ...   \n",
              "2     [spy, based on novel, secret agent, sequel, mi...   \n",
              "3     [dc comics, crime fighter, terrorist, secret i...   \n",
              "4     [based on novel, mars, medallion, space travel...   \n",
              "...                                                 ...   \n",
              "4804  [united states–mexico barrier, legs, arms, pap...   \n",
              "4805                                                 []   \n",
              "4806  [date, love at first sight, narration, investi...   \n",
              "4807                                                 []   \n",
              "4808          [obsession, camcorder, crush, dream girl]   \n",
              "\n",
              "                                                   cast                crew  \n",
              "0      [Sam Worthington, Zoe Saldana, Sigourney Weaver]                  []  \n",
              "1         [Johnny Depp, Orlando Bloom, Keira Knightley]                  []  \n",
              "2          [Daniel Craig, Christoph Waltz, Léa Seydoux]                  []  \n",
              "3          [Christian Bale, Michael Caine, Gary Oldman]                  []  \n",
              "4        [Taylor Kitsch, Lynn Collins, Samantha Morton]                  []  \n",
              "...                                                 ...                 ...  \n",
              "4804  [Carlos Gallardo, Jaime de Hoyos, Peter Marqua...  [Robert Rodriguez]  \n",
              "4805       [Edward Burns, Kerry Bishé, Marsha Dietlein]      [Edward Burns]  \n",
              "4806         [Eric Mabius, Kristin Booth, Crystal Lowe]                  []  \n",
              "4807          [Daniel Henney, Eliza Coupe, Bill Paxton]       [Daniel Hsia]  \n",
              "4808  [Drew Barrymore, Brian Herzlinger, Corey Feldman]                  []  \n",
              "\n",
              "[4806 rows x 7 columns]"
            ]
          },
          "execution_count": 469,
          "metadata": {},
          "output_type": "execute_result"
        }
      ],
      "source": [
        "movies_df"
      ]
    },
    {
      "cell_type": "code",
      "execution_count": null,
      "id": "de95af93-b721-4d59-9b8f-e33b8658634a",
      "metadata": {
        "id": "de95af93-b721-4d59-9b8f-e33b8658634a",
        "outputId": "537bc5f3-157e-4562-97d8-b94091c5edb4"
      },
      "outputs": [
        {
          "name": "stderr",
          "output_type": "stream",
          "text": [
            "C:\\Users\\Hrithick\\AppData\\Local\\Temp\\ipykernel_2744\\1488163228.py:1: SettingWithCopyWarning: \n",
            "A value is trying to be set on a copy of a slice from a DataFrame.\n",
            "Try using .loc[row_indexer,col_indexer] = value instead\n",
            "\n",
            "See the caveats in the documentation: https://pandas.pydata.org/pandas-docs/stable/user_guide/indexing.html#returning-a-view-versus-a-copy\n",
            "  movies_df['overview']= movies_df['overview'].apply(lambda x:x.split())\n"
          ]
        }
      ],
      "source": [
        "movies_df['overview']= movies_df['overview'].apply(lambda x:x.split())"
      ]
    },
    {
      "cell_type": "code",
      "execution_count": null,
      "id": "03a306db-b1fd-4164-a0cd-6ceeea4bda6f",
      "metadata": {
        "id": "03a306db-b1fd-4164-a0cd-6ceeea4bda6f",
        "outputId": "45c7a77c-f7b9-466f-f88e-cdab26088ce9"
      },
      "outputs": [
        {
          "data": {
            "text/html": [
              "<div>\n",
              "<style scoped>\n",
              "    .dataframe tbody tr th:only-of-type {\n",
              "        vertical-align: middle;\n",
              "    }\n",
              "\n",
              "    .dataframe tbody tr th {\n",
              "        vertical-align: top;\n",
              "    }\n",
              "\n",
              "    .dataframe thead th {\n",
              "        text-align: right;\n",
              "    }\n",
              "</style>\n",
              "<table border=\"1\" class=\"dataframe\">\n",
              "  <thead>\n",
              "    <tr style=\"text-align: right;\">\n",
              "      <th></th>\n",
              "      <th>movie_id</th>\n",
              "      <th>title</th>\n",
              "      <th>genres</th>\n",
              "      <th>overview</th>\n",
              "      <th>keywords</th>\n",
              "      <th>cast</th>\n",
              "      <th>crew</th>\n",
              "    </tr>\n",
              "  </thead>\n",
              "  <tbody>\n",
              "    <tr>\n",
              "      <th>0</th>\n",
              "      <td>19995</td>\n",
              "      <td>Avatar</td>\n",
              "      <td>[Action, Adventure, Fantasy, Science Fiction]</td>\n",
              "      <td>[In, the, 22nd, century,, a, paraplegic, Marin...</td>\n",
              "      <td>[culture clash, future, space war, space colon...</td>\n",
              "      <td>[Sam Worthington, Zoe Saldana, Sigourney Weaver]</td>\n",
              "      <td>[]</td>\n",
              "    </tr>\n",
              "    <tr>\n",
              "      <th>1</th>\n",
              "      <td>285</td>\n",
              "      <td>Pirates of the Caribbean: At World's End</td>\n",
              "      <td>[Adventure, Fantasy, Action]</td>\n",
              "      <td>[Captain, Barbossa,, long, believed, to, be, d...</td>\n",
              "      <td>[ocean, drug abuse, exotic island, east india ...</td>\n",
              "      <td>[Johnny Depp, Orlando Bloom, Keira Knightley]</td>\n",
              "      <td>[]</td>\n",
              "    </tr>\n",
              "    <tr>\n",
              "      <th>2</th>\n",
              "      <td>206647</td>\n",
              "      <td>Spectre</td>\n",
              "      <td>[Action, Adventure, Crime]</td>\n",
              "      <td>[A, cryptic, message, from, Bond’s, past, send...</td>\n",
              "      <td>[spy, based on novel, secret agent, sequel, mi...</td>\n",
              "      <td>[Daniel Craig, Christoph Waltz, Léa Seydoux]</td>\n",
              "      <td>[]</td>\n",
              "    </tr>\n",
              "    <tr>\n",
              "      <th>3</th>\n",
              "      <td>49026</td>\n",
              "      <td>The Dark Knight Rises</td>\n",
              "      <td>[Action, Crime, Drama, Thriller]</td>\n",
              "      <td>[Following, the, death, of, District, Attorney...</td>\n",
              "      <td>[dc comics, crime fighter, terrorist, secret i...</td>\n",
              "      <td>[Christian Bale, Michael Caine, Gary Oldman]</td>\n",
              "      <td>[]</td>\n",
              "    </tr>\n",
              "    <tr>\n",
              "      <th>4</th>\n",
              "      <td>49529</td>\n",
              "      <td>John Carter</td>\n",
              "      <td>[Action, Adventure, Science Fiction]</td>\n",
              "      <td>[John, Carter, is, a, war-weary,, former, mili...</td>\n",
              "      <td>[based on novel, mars, medallion, space travel...</td>\n",
              "      <td>[Taylor Kitsch, Lynn Collins, Samantha Morton]</td>\n",
              "      <td>[]</td>\n",
              "    </tr>\n",
              "    <tr>\n",
              "      <th>...</th>\n",
              "      <td>...</td>\n",
              "      <td>...</td>\n",
              "      <td>...</td>\n",
              "      <td>...</td>\n",
              "      <td>...</td>\n",
              "      <td>...</td>\n",
              "      <td>...</td>\n",
              "    </tr>\n",
              "    <tr>\n",
              "      <th>4804</th>\n",
              "      <td>9367</td>\n",
              "      <td>El Mariachi</td>\n",
              "      <td>[Action, Crime, Thriller]</td>\n",
              "      <td>[El, Mariachi, just, wants, to, play, his, gui...</td>\n",
              "      <td>[united states–mexico barrier, legs, arms, pap...</td>\n",
              "      <td>[Carlos Gallardo, Jaime de Hoyos, Peter Marqua...</td>\n",
              "      <td>[Robert Rodriguez]</td>\n",
              "    </tr>\n",
              "    <tr>\n",
              "      <th>4805</th>\n",
              "      <td>72766</td>\n",
              "      <td>Newlyweds</td>\n",
              "      <td>[Comedy, Romance]</td>\n",
              "      <td>[A, newlywed, couple's, honeymoon, is, upended...</td>\n",
              "      <td>[]</td>\n",
              "      <td>[Edward Burns, Kerry Bishé, Marsha Dietlein]</td>\n",
              "      <td>[Edward Burns]</td>\n",
              "    </tr>\n",
              "    <tr>\n",
              "      <th>4806</th>\n",
              "      <td>231617</td>\n",
              "      <td>Signed, Sealed, Delivered</td>\n",
              "      <td>[Comedy, Drama, Romance, TV Movie]</td>\n",
              "      <td>[\"Signed,, Sealed,, Delivered\", introduces, a,...</td>\n",
              "      <td>[date, love at first sight, narration, investi...</td>\n",
              "      <td>[Eric Mabius, Kristin Booth, Crystal Lowe]</td>\n",
              "      <td>[]</td>\n",
              "    </tr>\n",
              "    <tr>\n",
              "      <th>4807</th>\n",
              "      <td>126186</td>\n",
              "      <td>Shanghai Calling</td>\n",
              "      <td>[]</td>\n",
              "      <td>[When, ambitious, New, York, attorney, Sam, is...</td>\n",
              "      <td>[]</td>\n",
              "      <td>[Daniel Henney, Eliza Coupe, Bill Paxton]</td>\n",
              "      <td>[Daniel Hsia]</td>\n",
              "    </tr>\n",
              "    <tr>\n",
              "      <th>4808</th>\n",
              "      <td>25975</td>\n",
              "      <td>My Date with Drew</td>\n",
              "      <td>[Documentary]</td>\n",
              "      <td>[Ever, since, the, second, grade, when, he, fi...</td>\n",
              "      <td>[obsession, camcorder, crush, dream girl]</td>\n",
              "      <td>[Drew Barrymore, Brian Herzlinger, Corey Feldman]</td>\n",
              "      <td>[]</td>\n",
              "    </tr>\n",
              "  </tbody>\n",
              "</table>\n",
              "<p>4806 rows × 7 columns</p>\n",
              "</div>"
            ],
            "text/plain": [
              "      movie_id                                     title  \\\n",
              "0        19995                                    Avatar   \n",
              "1          285  Pirates of the Caribbean: At World's End   \n",
              "2       206647                                   Spectre   \n",
              "3        49026                     The Dark Knight Rises   \n",
              "4        49529                               John Carter   \n",
              "...        ...                                       ...   \n",
              "4804      9367                               El Mariachi   \n",
              "4805     72766                                 Newlyweds   \n",
              "4806    231617                 Signed, Sealed, Delivered   \n",
              "4807    126186                          Shanghai Calling   \n",
              "4808     25975                         My Date with Drew   \n",
              "\n",
              "                                             genres  \\\n",
              "0     [Action, Adventure, Fantasy, Science Fiction]   \n",
              "1                      [Adventure, Fantasy, Action]   \n",
              "2                        [Action, Adventure, Crime]   \n",
              "3                  [Action, Crime, Drama, Thriller]   \n",
              "4              [Action, Adventure, Science Fiction]   \n",
              "...                                             ...   \n",
              "4804                      [Action, Crime, Thriller]   \n",
              "4805                              [Comedy, Romance]   \n",
              "4806             [Comedy, Drama, Romance, TV Movie]   \n",
              "4807                                             []   \n",
              "4808                                  [Documentary]   \n",
              "\n",
              "                                               overview  \\\n",
              "0     [In, the, 22nd, century,, a, paraplegic, Marin...   \n",
              "1     [Captain, Barbossa,, long, believed, to, be, d...   \n",
              "2     [A, cryptic, message, from, Bond’s, past, send...   \n",
              "3     [Following, the, death, of, District, Attorney...   \n",
              "4     [John, Carter, is, a, war-weary,, former, mili...   \n",
              "...                                                 ...   \n",
              "4804  [El, Mariachi, just, wants, to, play, his, gui...   \n",
              "4805  [A, newlywed, couple's, honeymoon, is, upended...   \n",
              "4806  [\"Signed,, Sealed,, Delivered\", introduces, a,...   \n",
              "4807  [When, ambitious, New, York, attorney, Sam, is...   \n",
              "4808  [Ever, since, the, second, grade, when, he, fi...   \n",
              "\n",
              "                                               keywords  \\\n",
              "0     [culture clash, future, space war, space colon...   \n",
              "1     [ocean, drug abuse, exotic island, east india ...   \n",
              "2     [spy, based on novel, secret agent, sequel, mi...   \n",
              "3     [dc comics, crime fighter, terrorist, secret i...   \n",
              "4     [based on novel, mars, medallion, space travel...   \n",
              "...                                                 ...   \n",
              "4804  [united states–mexico barrier, legs, arms, pap...   \n",
              "4805                                                 []   \n",
              "4806  [date, love at first sight, narration, investi...   \n",
              "4807                                                 []   \n",
              "4808          [obsession, camcorder, crush, dream girl]   \n",
              "\n",
              "                                                   cast                crew  \n",
              "0      [Sam Worthington, Zoe Saldana, Sigourney Weaver]                  []  \n",
              "1         [Johnny Depp, Orlando Bloom, Keira Knightley]                  []  \n",
              "2          [Daniel Craig, Christoph Waltz, Léa Seydoux]                  []  \n",
              "3          [Christian Bale, Michael Caine, Gary Oldman]                  []  \n",
              "4        [Taylor Kitsch, Lynn Collins, Samantha Morton]                  []  \n",
              "...                                                 ...                 ...  \n",
              "4804  [Carlos Gallardo, Jaime de Hoyos, Peter Marqua...  [Robert Rodriguez]  \n",
              "4805       [Edward Burns, Kerry Bishé, Marsha Dietlein]      [Edward Burns]  \n",
              "4806         [Eric Mabius, Kristin Booth, Crystal Lowe]                  []  \n",
              "4807          [Daniel Henney, Eliza Coupe, Bill Paxton]       [Daniel Hsia]  \n",
              "4808  [Drew Barrymore, Brian Herzlinger, Corey Feldman]                  []  \n",
              "\n",
              "[4806 rows x 7 columns]"
            ]
          },
          "execution_count": 471,
          "metadata": {},
          "output_type": "execute_result"
        }
      ],
      "source": [
        "movies_df"
      ]
    },
    {
      "cell_type": "markdown",
      "id": "8943185f",
      "metadata": {
        "id": "8943185f"
      },
      "source": [
        "# Spliting values in dataframe"
      ]
    },
    {
      "cell_type": "code",
      "execution_count": null,
      "id": "4e6e4e24-1a6a-40f9-bec4-8f6bbb814980",
      "metadata": {
        "id": "4e6e4e24-1a6a-40f9-bec4-8f6bbb814980",
        "outputId": "b9f50aaf-4e84-440e-b8d2-6e836fd8c2a2"
      },
      "outputs": [
        {
          "name": "stderr",
          "output_type": "stream",
          "text": [
            "C:\\Users\\Hrithick\\AppData\\Local\\Temp\\ipykernel_2744\\1489705607.py:1: SettingWithCopyWarning: \n",
            "A value is trying to be set on a copy of a slice from a DataFrame.\n",
            "Try using .loc[row_indexer,col_indexer] = value instead\n",
            "\n",
            "See the caveats in the documentation: https://pandas.pydata.org/pandas-docs/stable/user_guide/indexing.html#returning-a-view-versus-a-copy\n",
            "  movies_df['genres'] = movies_df['genres'].apply(lambda x:[i.replace(\" \", \" \") for i in x])\n",
            "C:\\Users\\Hrithick\\AppData\\Local\\Temp\\ipykernel_2744\\1489705607.py:2: SettingWithCopyWarning: \n",
            "A value is trying to be set on a copy of a slice from a DataFrame.\n",
            "Try using .loc[row_indexer,col_indexer] = value instead\n",
            "\n",
            "See the caveats in the documentation: https://pandas.pydata.org/pandas-docs/stable/user_guide/indexing.html#returning-a-view-versus-a-copy\n",
            "  movies_df['keywords'] = movies_df['keywords'].apply(lambda x:[i.replace(\" \", \" \") for i in x])\n",
            "C:\\Users\\Hrithick\\AppData\\Local\\Temp\\ipykernel_2744\\1489705607.py:3: SettingWithCopyWarning: \n",
            "A value is trying to be set on a copy of a slice from a DataFrame.\n",
            "Try using .loc[row_indexer,col_indexer] = value instead\n",
            "\n",
            "See the caveats in the documentation: https://pandas.pydata.org/pandas-docs/stable/user_guide/indexing.html#returning-a-view-versus-a-copy\n",
            "  movies_df['cast'] = movies_df['cast'].apply(lambda x:[i.replace(\" \", \" \") for i in x])\n",
            "C:\\Users\\Hrithick\\AppData\\Local\\Temp\\ipykernel_2744\\1489705607.py:4: SettingWithCopyWarning: \n",
            "A value is trying to be set on a copy of a slice from a DataFrame.\n",
            "Try using .loc[row_indexer,col_indexer] = value instead\n",
            "\n",
            "See the caveats in the documentation: https://pandas.pydata.org/pandas-docs/stable/user_guide/indexing.html#returning-a-view-versus-a-copy\n",
            "  movies_df['crew'] = movies_df['crew'].apply(lambda x:[i.replace(\" \", \" \") for i in x])\n"
          ]
        }
      ],
      "source": [
        "movies_df['genres'] = movies_df['genres'].apply(lambda x:[i.replace(\" \", \" \") for i in x])\n",
        "movies_df['keywords'] = movies_df['keywords'].apply(lambda x:[i.replace(\" \", \" \") for i in x])\n",
        "movies_df['cast'] = movies_df['cast'].apply(lambda x:[i.replace(\" \", \" \") for i in x])\n",
        "movies_df['crew'] = movies_df['crew'].apply(lambda x:[i.replace(\" \", \" \") for i in x])"
      ]
    },
    {
      "cell_type": "code",
      "execution_count": null,
      "id": "f990fd16-04e2-4b47-bb1c-360f95a15a4d",
      "metadata": {
        "id": "f990fd16-04e2-4b47-bb1c-360f95a15a4d",
        "outputId": "24fdd050-2759-4f60-c04b-79240c9d18df"
      },
      "outputs": [
        {
          "data": {
            "text/html": [
              "<div>\n",
              "<style scoped>\n",
              "    .dataframe tbody tr th:only-of-type {\n",
              "        vertical-align: middle;\n",
              "    }\n",
              "\n",
              "    .dataframe tbody tr th {\n",
              "        vertical-align: top;\n",
              "    }\n",
              "\n",
              "    .dataframe thead th {\n",
              "        text-align: right;\n",
              "    }\n",
              "</style>\n",
              "<table border=\"1\" class=\"dataframe\">\n",
              "  <thead>\n",
              "    <tr style=\"text-align: right;\">\n",
              "      <th></th>\n",
              "      <th>movie_id</th>\n",
              "      <th>title</th>\n",
              "      <th>genres</th>\n",
              "      <th>overview</th>\n",
              "      <th>keywords</th>\n",
              "      <th>cast</th>\n",
              "      <th>crew</th>\n",
              "    </tr>\n",
              "  </thead>\n",
              "  <tbody>\n",
              "    <tr>\n",
              "      <th>0</th>\n",
              "      <td>19995</td>\n",
              "      <td>Avatar</td>\n",
              "      <td>[Action, Adventure, Fantasy, Science Fiction]</td>\n",
              "      <td>[In, the, 22nd, century,, a, paraplegic, Marin...</td>\n",
              "      <td>[culture clash, future, space war, space colon...</td>\n",
              "      <td>[Sam Worthington, Zoe Saldana, Sigourney Weaver]</td>\n",
              "      <td>[]</td>\n",
              "    </tr>\n",
              "    <tr>\n",
              "      <th>1</th>\n",
              "      <td>285</td>\n",
              "      <td>Pirates of the Caribbean: At World's End</td>\n",
              "      <td>[Adventure, Fantasy, Action]</td>\n",
              "      <td>[Captain, Barbossa,, long, believed, to, be, d...</td>\n",
              "      <td>[ocean, drug abuse, exotic island, east india ...</td>\n",
              "      <td>[Johnny Depp, Orlando Bloom, Keira Knightley]</td>\n",
              "      <td>[]</td>\n",
              "    </tr>\n",
              "    <tr>\n",
              "      <th>2</th>\n",
              "      <td>206647</td>\n",
              "      <td>Spectre</td>\n",
              "      <td>[Action, Adventure, Crime]</td>\n",
              "      <td>[A, cryptic, message, from, Bond’s, past, send...</td>\n",
              "      <td>[spy, based on novel, secret agent, sequel, mi...</td>\n",
              "      <td>[Daniel Craig, Christoph Waltz, Léa Seydoux]</td>\n",
              "      <td>[]</td>\n",
              "    </tr>\n",
              "    <tr>\n",
              "      <th>3</th>\n",
              "      <td>49026</td>\n",
              "      <td>The Dark Knight Rises</td>\n",
              "      <td>[Action, Crime, Drama, Thriller]</td>\n",
              "      <td>[Following, the, death, of, District, Attorney...</td>\n",
              "      <td>[dc comics, crime fighter, terrorist, secret i...</td>\n",
              "      <td>[Christian Bale, Michael Caine, Gary Oldman]</td>\n",
              "      <td>[]</td>\n",
              "    </tr>\n",
              "    <tr>\n",
              "      <th>4</th>\n",
              "      <td>49529</td>\n",
              "      <td>John Carter</td>\n",
              "      <td>[Action, Adventure, Science Fiction]</td>\n",
              "      <td>[John, Carter, is, a, war-weary,, former, mili...</td>\n",
              "      <td>[based on novel, mars, medallion, space travel...</td>\n",
              "      <td>[Taylor Kitsch, Lynn Collins, Samantha Morton]</td>\n",
              "      <td>[]</td>\n",
              "    </tr>\n",
              "    <tr>\n",
              "      <th>...</th>\n",
              "      <td>...</td>\n",
              "      <td>...</td>\n",
              "      <td>...</td>\n",
              "      <td>...</td>\n",
              "      <td>...</td>\n",
              "      <td>...</td>\n",
              "      <td>...</td>\n",
              "    </tr>\n",
              "    <tr>\n",
              "      <th>4804</th>\n",
              "      <td>9367</td>\n",
              "      <td>El Mariachi</td>\n",
              "      <td>[Action, Crime, Thriller]</td>\n",
              "      <td>[El, Mariachi, just, wants, to, play, his, gui...</td>\n",
              "      <td>[united states–mexico barrier, legs, arms, pap...</td>\n",
              "      <td>[Carlos Gallardo, Jaime de Hoyos, Peter Marqua...</td>\n",
              "      <td>[Robert Rodriguez]</td>\n",
              "    </tr>\n",
              "    <tr>\n",
              "      <th>4805</th>\n",
              "      <td>72766</td>\n",
              "      <td>Newlyweds</td>\n",
              "      <td>[Comedy, Romance]</td>\n",
              "      <td>[A, newlywed, couple's, honeymoon, is, upended...</td>\n",
              "      <td>[]</td>\n",
              "      <td>[Edward Burns, Kerry Bishé, Marsha Dietlein]</td>\n",
              "      <td>[Edward Burns]</td>\n",
              "    </tr>\n",
              "    <tr>\n",
              "      <th>4806</th>\n",
              "      <td>231617</td>\n",
              "      <td>Signed, Sealed, Delivered</td>\n",
              "      <td>[Comedy, Drama, Romance, TV Movie]</td>\n",
              "      <td>[\"Signed,, Sealed,, Delivered\", introduces, a,...</td>\n",
              "      <td>[date, love at first sight, narration, investi...</td>\n",
              "      <td>[Eric Mabius, Kristin Booth, Crystal Lowe]</td>\n",
              "      <td>[]</td>\n",
              "    </tr>\n",
              "    <tr>\n",
              "      <th>4807</th>\n",
              "      <td>126186</td>\n",
              "      <td>Shanghai Calling</td>\n",
              "      <td>[]</td>\n",
              "      <td>[When, ambitious, New, York, attorney, Sam, is...</td>\n",
              "      <td>[]</td>\n",
              "      <td>[Daniel Henney, Eliza Coupe, Bill Paxton]</td>\n",
              "      <td>[Daniel Hsia]</td>\n",
              "    </tr>\n",
              "    <tr>\n",
              "      <th>4808</th>\n",
              "      <td>25975</td>\n",
              "      <td>My Date with Drew</td>\n",
              "      <td>[Documentary]</td>\n",
              "      <td>[Ever, since, the, second, grade, when, he, fi...</td>\n",
              "      <td>[obsession, camcorder, crush, dream girl]</td>\n",
              "      <td>[Drew Barrymore, Brian Herzlinger, Corey Feldman]</td>\n",
              "      <td>[]</td>\n",
              "    </tr>\n",
              "  </tbody>\n",
              "</table>\n",
              "<p>4806 rows × 7 columns</p>\n",
              "</div>"
            ],
            "text/plain": [
              "      movie_id                                     title  \\\n",
              "0        19995                                    Avatar   \n",
              "1          285  Pirates of the Caribbean: At World's End   \n",
              "2       206647                                   Spectre   \n",
              "3        49026                     The Dark Knight Rises   \n",
              "4        49529                               John Carter   \n",
              "...        ...                                       ...   \n",
              "4804      9367                               El Mariachi   \n",
              "4805     72766                                 Newlyweds   \n",
              "4806    231617                 Signed, Sealed, Delivered   \n",
              "4807    126186                          Shanghai Calling   \n",
              "4808     25975                         My Date with Drew   \n",
              "\n",
              "                                             genres  \\\n",
              "0     [Action, Adventure, Fantasy, Science Fiction]   \n",
              "1                      [Adventure, Fantasy, Action]   \n",
              "2                        [Action, Adventure, Crime]   \n",
              "3                  [Action, Crime, Drama, Thriller]   \n",
              "4              [Action, Adventure, Science Fiction]   \n",
              "...                                             ...   \n",
              "4804                      [Action, Crime, Thriller]   \n",
              "4805                              [Comedy, Romance]   \n",
              "4806             [Comedy, Drama, Romance, TV Movie]   \n",
              "4807                                             []   \n",
              "4808                                  [Documentary]   \n",
              "\n",
              "                                               overview  \\\n",
              "0     [In, the, 22nd, century,, a, paraplegic, Marin...   \n",
              "1     [Captain, Barbossa,, long, believed, to, be, d...   \n",
              "2     [A, cryptic, message, from, Bond’s, past, send...   \n",
              "3     [Following, the, death, of, District, Attorney...   \n",
              "4     [John, Carter, is, a, war-weary,, former, mili...   \n",
              "...                                                 ...   \n",
              "4804  [El, Mariachi, just, wants, to, play, his, gui...   \n",
              "4805  [A, newlywed, couple's, honeymoon, is, upended...   \n",
              "4806  [\"Signed,, Sealed,, Delivered\", introduces, a,...   \n",
              "4807  [When, ambitious, New, York, attorney, Sam, is...   \n",
              "4808  [Ever, since, the, second, grade, when, he, fi...   \n",
              "\n",
              "                                               keywords  \\\n",
              "0     [culture clash, future, space war, space colon...   \n",
              "1     [ocean, drug abuse, exotic island, east india ...   \n",
              "2     [spy, based on novel, secret agent, sequel, mi...   \n",
              "3     [dc comics, crime fighter, terrorist, secret i...   \n",
              "4     [based on novel, mars, medallion, space travel...   \n",
              "...                                                 ...   \n",
              "4804  [united states–mexico barrier, legs, arms, pap...   \n",
              "4805                                                 []   \n",
              "4806  [date, love at first sight, narration, investi...   \n",
              "4807                                                 []   \n",
              "4808          [obsession, camcorder, crush, dream girl]   \n",
              "\n",
              "                                                   cast                crew  \n",
              "0      [Sam Worthington, Zoe Saldana, Sigourney Weaver]                  []  \n",
              "1         [Johnny Depp, Orlando Bloom, Keira Knightley]                  []  \n",
              "2          [Daniel Craig, Christoph Waltz, Léa Seydoux]                  []  \n",
              "3          [Christian Bale, Michael Caine, Gary Oldman]                  []  \n",
              "4        [Taylor Kitsch, Lynn Collins, Samantha Morton]                  []  \n",
              "...                                                 ...                 ...  \n",
              "4804  [Carlos Gallardo, Jaime de Hoyos, Peter Marqua...  [Robert Rodriguez]  \n",
              "4805       [Edward Burns, Kerry Bishé, Marsha Dietlein]      [Edward Burns]  \n",
              "4806         [Eric Mabius, Kristin Booth, Crystal Lowe]                  []  \n",
              "4807          [Daniel Henney, Eliza Coupe, Bill Paxton]       [Daniel Hsia]  \n",
              "4808  [Drew Barrymore, Brian Herzlinger, Corey Feldman]                  []  \n",
              "\n",
              "[4806 rows x 7 columns]"
            ]
          },
          "execution_count": 473,
          "metadata": {},
          "output_type": "execute_result"
        }
      ],
      "source": [
        "movies_df"
      ]
    },
    {
      "cell_type": "code",
      "execution_count": null,
      "id": "dd2c960b-d5be-42d4-8414-07d9f23cf52c",
      "metadata": {
        "id": "dd2c960b-d5be-42d4-8414-07d9f23cf52c",
        "outputId": "f17087a0-0e12-4927-ce67-00101a458334"
      },
      "outputs": [
        {
          "data": {
            "text/plain": [
              "movie_id    0\n",
              "title       0\n",
              "genres      0\n",
              "overview    0\n",
              "keywords    0\n",
              "cast        0\n",
              "crew        0\n",
              "dtype: int64"
            ]
          },
          "execution_count": 474,
          "metadata": {},
          "output_type": "execute_result"
        }
      ],
      "source": [
        "movies_df.isnull().sum()"
      ]
    },
    {
      "cell_type": "code",
      "execution_count": null,
      "id": "77d8d3a4-5ded-4fc5-a2d4-f9e8dcc43c0f",
      "metadata": {
        "id": "77d8d3a4-5ded-4fc5-a2d4-f9e8dcc43c0f",
        "outputId": "e3afb162-986f-4f60-e685-929b34729808"
      },
      "outputs": [
        {
          "name": "stderr",
          "output_type": "stream",
          "text": [
            "C:\\Users\\Hrithick\\AppData\\Local\\Temp\\ipykernel_2744\\4004039259.py:1: SettingWithCopyWarning: \n",
            "A value is trying to be set on a copy of a slice from a DataFrame.\n",
            "Try using .loc[row_indexer,col_indexer] = value instead\n",
            "\n",
            "See the caveats in the documentation: https://pandas.pydata.org/pandas-docs/stable/user_guide/indexing.html#returning-a-view-versus-a-copy\n",
            "  movies_df['tags'] = movies_df['overview'] + movies_df['genres'] + movies_df['keywords'] + movies_df['cast'] + movies_df['crew']\n"
          ]
        }
      ],
      "source": [
        "movies_df['tags'] = movies_df['overview'] + movies_df['genres'] + movies_df['keywords'] + movies_df['cast'] + movies_df['crew']"
      ]
    },
    {
      "cell_type": "code",
      "execution_count": null,
      "id": "cd4a80a6-dde7-4c61-9884-68b202ea7eee",
      "metadata": {
        "id": "cd4a80a6-dde7-4c61-9884-68b202ea7eee",
        "outputId": "9647c570-068f-43da-bc05-d75eaac0154c"
      },
      "outputs": [
        {
          "data": {
            "text/plain": [
              "0       [In, the, 22nd, century,, a, paraplegic, Marin...\n",
              "1       [Captain, Barbossa,, long, believed, to, be, d...\n",
              "2       [A, cryptic, message, from, Bond’s, past, send...\n",
              "3       [Following, the, death, of, District, Attorney...\n",
              "4       [John, Carter, is, a, war-weary,, former, mili...\n",
              "                              ...                        \n",
              "4804    [El, Mariachi, just, wants, to, play, his, gui...\n",
              "4805    [A, newlywed, couple's, honeymoon, is, upended...\n",
              "4806    [\"Signed,, Sealed,, Delivered\", introduces, a,...\n",
              "4807    [When, ambitious, New, York, attorney, Sam, is...\n",
              "4808    [Ever, since, the, second, grade, when, he, fi...\n",
              "Name: tags, Length: 4806, dtype: object"
            ]
          },
          "execution_count": 476,
          "metadata": {},
          "output_type": "execute_result"
        }
      ],
      "source": [
        "movies_df['tags']"
      ]
    },
    {
      "cell_type": "code",
      "execution_count": null,
      "id": "c37e54b4-2a32-4c46-834e-77606c044fc5",
      "metadata": {
        "id": "c37e54b4-2a32-4c46-834e-77606c044fc5"
      },
      "outputs": [],
      "source": [
        "mdata = movies_df[['movie_id', 'title', 'tags']]"
      ]
    },
    {
      "cell_type": "code",
      "execution_count": null,
      "id": "2fdf2cf2-4897-4a9d-9250-90ef954c7646",
      "metadata": {
        "id": "2fdf2cf2-4897-4a9d-9250-90ef954c7646",
        "outputId": "0876cb3a-3954-4ca5-bef9-d0084e0d7712"
      },
      "outputs": [
        {
          "name": "stderr",
          "output_type": "stream",
          "text": [
            "C:\\Users\\Hrithick\\AppData\\Local\\Temp\\ipykernel_2744\\1297378137.py:1: SettingWithCopyWarning: \n",
            "A value is trying to be set on a copy of a slice from a DataFrame.\n",
            "Try using .loc[row_indexer,col_indexer] = value instead\n",
            "\n",
            "See the caveats in the documentation: https://pandas.pydata.org/pandas-docs/stable/user_guide/indexing.html#returning-a-view-versus-a-copy\n",
            "  mdata['tags'] = mdata['tags'].apply(lambda x:' '.join(x))\n"
          ]
        }
      ],
      "source": [
        "mdata['tags'] = mdata['tags'].apply(lambda x:' '.join(x))"
      ]
    },
    {
      "cell_type": "code",
      "execution_count": null,
      "id": "edd52ab9-a82a-4843-8ecc-8d212c179ba5",
      "metadata": {
        "id": "edd52ab9-a82a-4843-8ecc-8d212c179ba5",
        "outputId": "3f90e23b-f27d-453e-d94b-0d9e620edc4e"
      },
      "outputs": [
        {
          "name": "stderr",
          "output_type": "stream",
          "text": [
            "C:\\Users\\Hrithick\\AppData\\Local\\Temp\\ipykernel_2744\\1571555605.py:1: SettingWithCopyWarning: \n",
            "A value is trying to be set on a copy of a slice from a DataFrame.\n",
            "Try using .loc[row_indexer,col_indexer] = value instead\n",
            "\n",
            "See the caveats in the documentation: https://pandas.pydata.org/pandas-docs/stable/user_guide/indexing.html#returning-a-view-versus-a-copy\n",
            "  mdata['tags']= mdata['tags'].apply(lambda X:X.lower())\n"
          ]
        }
      ],
      "source": [
        "mdata['tags']= mdata['tags'].apply(lambda X:X.lower())"
      ]
    },
    {
      "cell_type": "code",
      "execution_count": null,
      "id": "ea03495b-8333-4867-8db1-8f3c17a0baa2",
      "metadata": {
        "id": "ea03495b-8333-4867-8db1-8f3c17a0baa2",
        "outputId": "36c7757f-c041-40d8-b43d-007d3d76bbdc"
      },
      "outputs": [
        {
          "data": {
            "text/html": [
              "<div>\n",
              "<style scoped>\n",
              "    .dataframe tbody tr th:only-of-type {\n",
              "        vertical-align: middle;\n",
              "    }\n",
              "\n",
              "    .dataframe tbody tr th {\n",
              "        vertical-align: top;\n",
              "    }\n",
              "\n",
              "    .dataframe thead th {\n",
              "        text-align: right;\n",
              "    }\n",
              "</style>\n",
              "<table border=\"1\" class=\"dataframe\">\n",
              "  <thead>\n",
              "    <tr style=\"text-align: right;\">\n",
              "      <th></th>\n",
              "      <th>movie_id</th>\n",
              "      <th>title</th>\n",
              "      <th>tags</th>\n",
              "    </tr>\n",
              "  </thead>\n",
              "  <tbody>\n",
              "    <tr>\n",
              "      <th>0</th>\n",
              "      <td>19995</td>\n",
              "      <td>Avatar</td>\n",
              "      <td>in the 22nd century, a paraplegic marine is di...</td>\n",
              "    </tr>\n",
              "    <tr>\n",
              "      <th>1</th>\n",
              "      <td>285</td>\n",
              "      <td>Pirates of the Caribbean: At World's End</td>\n",
              "      <td>captain barbossa, long believed to be dead, ha...</td>\n",
              "    </tr>\n",
              "    <tr>\n",
              "      <th>2</th>\n",
              "      <td>206647</td>\n",
              "      <td>Spectre</td>\n",
              "      <td>a cryptic message from bond’s past sends him o...</td>\n",
              "    </tr>\n",
              "    <tr>\n",
              "      <th>3</th>\n",
              "      <td>49026</td>\n",
              "      <td>The Dark Knight Rises</td>\n",
              "      <td>following the death of district attorney harve...</td>\n",
              "    </tr>\n",
              "    <tr>\n",
              "      <th>4</th>\n",
              "      <td>49529</td>\n",
              "      <td>John Carter</td>\n",
              "      <td>john carter is a war-weary, former military ca...</td>\n",
              "    </tr>\n",
              "  </tbody>\n",
              "</table>\n",
              "</div>"
            ],
            "text/plain": [
              "   movie_id                                     title  \\\n",
              "0     19995                                    Avatar   \n",
              "1       285  Pirates of the Caribbean: At World's End   \n",
              "2    206647                                   Spectre   \n",
              "3     49026                     The Dark Knight Rises   \n",
              "4     49529                               John Carter   \n",
              "\n",
              "                                                tags  \n",
              "0  in the 22nd century, a paraplegic marine is di...  \n",
              "1  captain barbossa, long believed to be dead, ha...  \n",
              "2  a cryptic message from bond’s past sends him o...  \n",
              "3  following the death of district attorney harve...  \n",
              "4  john carter is a war-weary, former military ca...  "
            ]
          },
          "execution_count": 480,
          "metadata": {},
          "output_type": "execute_result"
        }
      ],
      "source": [
        "mdata.head()"
      ]
    },
    {
      "cell_type": "markdown",
      "id": "72b2770e",
      "metadata": {
        "id": "72b2770e"
      },
      "source": [
        "# Data Vectorization"
      ]
    },
    {
      "cell_type": "code",
      "execution_count": null,
      "id": "09527ad3-f425-4ba8-9339-14c13f7a7514",
      "metadata": {
        "id": "09527ad3-f425-4ba8-9339-14c13f7a7514"
      },
      "outputs": [],
      "source": [
        "from sklearn.feature_extraction.text import CountVectorizer"
      ]
    },
    {
      "cell_type": "code",
      "execution_count": null,
      "id": "8fc79b2c-f507-4af5-adf3-14aa31ac4647",
      "metadata": {
        "id": "8fc79b2c-f507-4af5-adf3-14aa31ac4647"
      },
      "outputs": [],
      "source": [
        "cv = CountVectorizer(max_features= 5000, stop_words= 'english')"
      ]
    },
    {
      "cell_type": "code",
      "execution_count": null,
      "id": "91d42013-9a3b-4bd0-a6c5-30d438be3b6d",
      "metadata": {
        "id": "91d42013-9a3b-4bd0-a6c5-30d438be3b6d"
      },
      "outputs": [],
      "source": [
        "vectors=cv.fit_transform(mdata['tags']).toarray()"
      ]
    },
    {
      "cell_type": "code",
      "execution_count": null,
      "id": "e576210c-3ee4-475d-b1d4-04a362ecb898",
      "metadata": {
        "id": "e576210c-3ee4-475d-b1d4-04a362ecb898",
        "outputId": "6de5b5f5-c2b6-4d95-b22b-8e8e7daeadbb"
      },
      "outputs": [
        {
          "data": {
            "text/plain": [
              "(4806, 5000)"
            ]
          },
          "execution_count": 484,
          "metadata": {},
          "output_type": "execute_result"
        }
      ],
      "source": [
        "vectors.shape"
      ]
    },
    {
      "cell_type": "code",
      "execution_count": null,
      "id": "5e984b0b-fb91-45d2-b80a-0f0fbf0e6d36",
      "metadata": {
        "id": "5e984b0b-fb91-45d2-b80a-0f0fbf0e6d36"
      },
      "outputs": [],
      "source": [
        "import nltk\n",
        "from nltk.stem.porter import PorterStemmer\n",
        "from sklearn.metrics.pairwise import cosine_similarity"
      ]
    },
    {
      "cell_type": "code",
      "execution_count": null,
      "id": "e6fb5619",
      "metadata": {
        "id": "e6fb5619"
      },
      "outputs": [],
      "source": [
        "ps = PorterStemmer()"
      ]
    },
    {
      "cell_type": "code",
      "execution_count": null,
      "id": "e8a30cf2",
      "metadata": {
        "id": "e8a30cf2"
      },
      "outputs": [],
      "source": [
        "def stem(text):\n",
        "    y = []\n",
        "    for i in text.split():\n",
        "        y.append(ps.stem(i))\n",
        "    return \" \".join(y)"
      ]
    },
    {
      "cell_type": "code",
      "execution_count": null,
      "id": "a45c6508-9bb1-499a-98df-b4b251189587",
      "metadata": {
        "id": "a45c6508-9bb1-499a-98df-b4b251189587",
        "outputId": "d1335040-6442-41d7-e48a-4de209ac56f5"
      },
      "outputs": [
        {
          "name": "stderr",
          "output_type": "stream",
          "text": [
            "C:\\Users\\Hrithick\\AppData\\Local\\Temp\\ipykernel_2744\\1037072364.py:1: SettingWithCopyWarning: \n",
            "A value is trying to be set on a copy of a slice from a DataFrame.\n",
            "Try using .loc[row_indexer,col_indexer] = value instead\n",
            "\n",
            "See the caveats in the documentation: https://pandas.pydata.org/pandas-docs/stable/user_guide/indexing.html#returning-a-view-versus-a-copy\n",
            "  mdata['tags'] = mdata['tags'].apply(stem)\n"
          ]
        }
      ],
      "source": [
        "mdata['tags'] = mdata['tags'].apply(stem)"
      ]
    },
    {
      "cell_type": "code",
      "execution_count": null,
      "id": "f58d4f89-7337-449d-9aa7-da1c7c94ef6f",
      "metadata": {
        "id": "f58d4f89-7337-449d-9aa7-da1c7c94ef6f",
        "outputId": "4e86cd43-7208-4a6b-9b75-14bd4e28649f"
      },
      "outputs": [
        {
          "data": {
            "text/plain": [
              "array([[1.        , 0.07009996, 0.03391292, ..., 0.03224129, 0.05446449,\n",
              "        0.        ],\n",
              "       [0.07009996, 1.        , 0.04397995, ..., 0.0418121 , 0.        ,\n",
              "        0.        ],\n",
              "       [0.03391292, 0.04397995, 1.        , ..., 0.02022783, 0.04556057,\n",
              "        0.        ],\n",
              "       ...,\n",
              "       [0.03224129, 0.0418121 , 0.02022783, ..., 1.        , 0.06497221,\n",
              "        0.03494283],\n",
              "       [0.05446449, 0.        , 0.04556057, ..., 0.06497221, 1.        ,\n",
              "        0.03935209],\n",
              "       [0.        , 0.        , 0.        , ..., 0.03494283, 0.03935209,\n",
              "        1.        ]])"
            ]
          },
          "execution_count": 489,
          "metadata": {},
          "output_type": "execute_result"
        }
      ],
      "source": [
        "cosine_similarity(vectors)"
      ]
    },
    {
      "cell_type": "code",
      "execution_count": null,
      "id": "ae45a0ce-fe35-49b4-8c06-43b99460de04",
      "metadata": {
        "id": "ae45a0ce-fe35-49b4-8c06-43b99460de04"
      },
      "outputs": [],
      "source": [
        "similarity = cosine_similarity(vectors)"
      ]
    },
    {
      "cell_type": "code",
      "execution_count": null,
      "id": "dfc70758",
      "metadata": {
        "id": "dfc70758",
        "outputId": "18216f25-7648-4e83-da32-c5d5cd12f521"
      },
      "outputs": [
        {
          "data": {
            "text/plain": [
              "array([1.        , 0.07009996, 0.03391292, ..., 0.03224129, 0.05446449,\n",
              "       0.        ])"
            ]
          },
          "execution_count": 491,
          "metadata": {},
          "output_type": "execute_result"
        }
      ],
      "source": [
        "similarity[0]"
      ]
    },
    {
      "cell_type": "code",
      "execution_count": null,
      "id": "f053f792",
      "metadata": {
        "id": "f053f792",
        "outputId": "3d47dd50-32aa-4619-f32d-5dfd257309ee"
      },
      "outputs": [
        {
          "data": {
            "text/plain": [
              "[(2409, 0.4579218831544976),\n",
              " (3162, 0.43383170594081105),\n",
              " (1537, 0.42889707705077995),\n",
              " (2021, 0.405842563622049),\n",
              " (838, 0.4028580985766145)]"
            ]
          },
          "execution_count": 492,
          "metadata": {},
          "output_type": "execute_result"
        }
      ],
      "source": [
        "sorted(list(enumerate(similarity[0])), reverse=True, key=lambda x: x[1])[1:6]"
      ]
    },
    {
      "cell_type": "markdown",
      "id": "f78663d6",
      "metadata": {
        "id": "f78663d6"
      },
      "source": [
        "# Definition of Recommend Function"
      ]
    },
    {
      "cell_type": "code",
      "execution_count": null,
      "id": "b5927bbc",
      "metadata": {
        "id": "b5927bbc"
      },
      "outputs": [],
      "source": [
        "def recommend(movie):\n",
        "    # Check if the movie is in the DataFrame\n",
        "    if movie in mdata['title'].values:\n",
        "        movie_index = mdata[mdata['title'] == movie].index[0]\n",
        "        distances = similarity[movie_index]\n",
        "        movie_list = sorted(list(enumerate(distances)), reverse=True, key=lambda x: x[1])[1:6]\n",
        "\n",
        "        for i in movie_list:\n",
        "            print(mdata.iloc[i[0]].title)\n",
        "    else:\n",
        "        print(f\"The movie '{movie}' is not in the dataset.\")"
      ]
    },
    {
      "cell_type": "markdown",
      "id": "75f173ee",
      "metadata": {
        "id": "75f173ee"
      },
      "source": [
        "# Examples"
      ]
    },
    {
      "cell_type": "code",
      "execution_count": null,
      "id": "8e7d566a",
      "metadata": {
        "id": "8e7d566a",
        "outputId": "3ce4d101-a217-44d2-f6d9-9d4627e55024"
      },
      "outputs": [
        {
          "name": "stdout",
          "output_type": "stream",
          "text": [
            "Aliens\n",
            "Alien\n",
            "Moonraker\n",
            "Spaceballs\n",
            "Alien³\n"
          ]
        }
      ],
      "source": [
        "recommend('Avatar')"
      ]
    },
    {
      "cell_type": "code",
      "execution_count": null,
      "id": "d7665bb8",
      "metadata": {
        "id": "d7665bb8",
        "outputId": "654fca4e-1f5d-409a-c358-6bb4fe853c05"
      },
      "outputs": [
        {
          "name": "stdout",
          "output_type": "stream",
          "text": [
            "The movie 'Nayagan' is not in the dataset.\n"
          ]
        }
      ],
      "source": [
        "recommend('Nayagan')"
      ]
    },
    {
      "cell_type": "code",
      "execution_count": null,
      "id": "fd6fa5ef",
      "metadata": {
        "id": "fd6fa5ef",
        "outputId": "f6b9b155-de7c-42bc-fb70-d02212f31e1f"
      },
      "outputs": [
        {
          "name": "stdout",
          "output_type": "stream",
          "text": [
            "Spider-Man 2\n",
            "Spider-Man\n",
            "The Amazing Spider-Man 2\n",
            "The Amazing Spider-Man\n",
            "Arachnophobia\n"
          ]
        }
      ],
      "source": [
        "recommend('Spider-Man 3')"
      ]
    },
    {
      "cell_type": "code",
      "execution_count": null,
      "id": "14077752",
      "metadata": {
        "id": "14077752",
        "outputId": "8c240286-07c4-4557-f7a8-6b268eb941f8"
      },
      "outputs": [
        {
          "name": "stdout",
          "output_type": "stream",
          "text": [
            "Die Hard\n",
            "Money Train\n",
            "Live Free or Die Hard\n",
            "Deuces Wild\n",
            "Daylight\n"
          ]
        }
      ],
      "source": [
        "recommend('Die Hard: With a Vengeance')"
      ]
    },
    {
      "cell_type": "code",
      "execution_count": null,
      "id": "d52f40c1",
      "metadata": {
        "id": "d52f40c1",
        "outputId": "bc72086e-63f9-438b-cffb-859df08f6c9b"
      },
      "outputs": [
        {
          "name": "stdout",
          "output_type": "stream",
          "text": [
            "One for the Money\n",
            "Love Me Tender\n",
            "Domino\n",
            "Once Upon a Time in the West\n",
            "The Good, the Bad and the Ugly\n"
          ]
        }
      ],
      "source": [
        "recommend('The Hateful Eight')"
      ]
    },
    {
      "cell_type": "code",
      "execution_count": null,
      "id": "930031b2",
      "metadata": {
        "id": "930031b2",
        "outputId": "52b3a22d-00df-49e1-e286-ce450c7dce50"
      },
      "outputs": [
        {
          "name": "stdout",
          "output_type": "stream",
          "text": [
            "The movie 'Memories of murder' is not in the dataset.\n"
          ]
        }
      ],
      "source": [
        "recommend('Memories of murder')"
      ]
    },
    {
      "cell_type": "code",
      "execution_count": null,
      "id": "3fd01179",
      "metadata": {
        "id": "3fd01179",
        "outputId": "fff8004c-26b0-4bd9-ab02-3c189bdd8a72"
      },
      "outputs": [
        {
          "name": "stdout",
          "output_type": "stream",
          "text": [
            "One for the Money\n",
            "Domino\n",
            "Once Upon a Time in the West\n",
            "The Hateful Eight\n",
            "The Bounty Hunter\n"
          ]
        }
      ],
      "source": [
        "recommend('Django Unchained')"
      ]
    },
    {
      "cell_type": "code",
      "execution_count": null,
      "id": "5aebffb0",
      "metadata": {
        "id": "5aebffb0",
        "outputId": "e5e65515-6176-45b6-afb3-b8c510a70b3c"
      },
      "outputs": [
        {
          "name": "stdout",
          "output_type": "stream",
          "text": [
            "Dutch Kills\n",
            "Into the Wild\n",
            "White House Down\n",
            "Erin Brockovich\n",
            "Philomena\n"
          ]
        }
      ],
      "source": [
        "recommend('The Pursuit of Happyness')"
      ]
    },
    {
      "cell_type": "code",
      "execution_count": null,
      "id": "19448eb8",
      "metadata": {
        "id": "19448eb8",
        "outputId": "f9c4677b-85a1-4ecd-cbb1-7707738a32be"
      },
      "outputs": [
        {
          "name": "stdout",
          "output_type": "stream",
          "text": [
            "The Notebook\n",
            "Romance & Cigarettes\n",
            "Captain Phillips\n",
            "Veer-Zaara\n",
            "Love Letters\n"
          ]
        }
      ],
      "source": [
        "recommend('Titanic')"
      ]
    },
    {
      "cell_type": "code",
      "execution_count": null,
      "id": "82a91078",
      "metadata": {
        "id": "82a91078",
        "outputId": "76f3912b-876c-4505-99bc-775e444cdf33"
      },
      "outputs": [
        {
          "name": "stdout",
          "output_type": "stream",
          "text": [
            "The movie 'Mission Impossible' is not in the dataset.\n"
          ]
        }
      ],
      "source": [
        "recommend('Mission Impossible')"
      ]
    },
    {
      "cell_type": "code",
      "execution_count": null,
      "id": "f28fc3c1",
      "metadata": {
        "id": "f28fc3c1",
        "outputId": "a99ea2d5-4453-482d-dcd7-187e704677ae"
      },
      "outputs": [
        {
          "name": "stdout",
          "output_type": "stream",
          "text": [
            "The Helix... Loaded\n",
            "The Count of Monte Cristo\n",
            "Flatliners\n",
            "Cypher\n",
            "Transformers: Revenge of the Fallen\n"
          ]
        }
      ],
      "source": [
        "recommend('Inception')"
      ]
    },
    {
      "cell_type": "code",
      "execution_count": null,
      "id": "6c9bcdb2",
      "metadata": {
        "id": "6c9bcdb2",
        "outputId": "42c3fbe0-0952-42e6-ae86-fe4a96c6647b"
      },
      "outputs": [
        {
          "name": "stdout",
          "output_type": "stream",
          "text": [
            "The X Files: I Want to Believe\n",
            "Mercury Rising\n",
            "Double Take\n",
            "Big Mommas: Like Father, Like Son\n",
            "Point Break\n"
          ]
        }
      ],
      "source": [
        "recommend('Sicario')"
      ]
    },
    {
      "cell_type": "code",
      "execution_count": null,
      "id": "d033e1ce",
      "metadata": {
        "id": "d033e1ce",
        "outputId": "f77a4457-2e8e-4480-ca5e-d0d4a4e076ce"
      },
      "outputs": [
        {
          "name": "stdout",
          "output_type": "stream",
          "text": [
            "The Matrix Revolutions\n",
            "The Matrix Reloaded\n",
            "Æon Flux\n",
            "Virtuosity\n",
            "The Thirteenth Floor\n"
          ]
        }
      ],
      "source": [
        "recommend('The Matrix')"
      ]
    },
    {
      "cell_type": "code",
      "execution_count": null,
      "id": "2cbed99f",
      "metadata": {
        "id": "2cbed99f",
        "outputId": "8d6bc487-c99a-41cb-b7d2-2fde6b2ddfbe"
      },
      "outputs": [
        {
          "name": "stdout",
          "output_type": "stream",
          "text": [
            "The Book of Eli\n",
            "Cloud Atlas\n",
            "Kites\n",
            "Children of Men\n",
            "9\n"
          ]
        }
      ],
      "source": [
        "recommend('Mad Max: Fury Road')"
      ]
    },
    {
      "cell_type": "code",
      "execution_count": null,
      "id": "c082b8b0",
      "metadata": {
        "id": "c082b8b0",
        "outputId": "42865883-35f3-47f8-b72c-1978fe7616d4"
      },
      "outputs": [
        {
          "name": "stdout",
          "output_type": "stream",
          "text": [
            "The movie '' is not in the dataset.\n"
          ]
        }
      ],
      "source": [
        "recommend('')"
      ]
    },
    {
      "cell_type": "code",
      "execution_count": null,
      "id": "77885f2a",
      "metadata": {
        "id": "77885f2a",
        "outputId": "3c7bcc42-7241-4f42-ba9b-04f5776e58bc"
      },
      "outputs": [
        {
          "name": "stdout",
          "output_type": "stream",
          "text": [
            "Avatar\n",
            "Planet of the Apes\n",
            "Lost in Space\n",
            "Silent Running\n",
            "Moonraker\n"
          ]
        }
      ],
      "source": [
        "recommend('Dune')"
      ]
    },
    {
      "cell_type": "code",
      "execution_count": null,
      "id": "c5018c21",
      "metadata": {
        "id": "c5018c21",
        "outputId": "5ec59b0f-082d-4ecc-c985-74523e87550b"
      },
      "outputs": [
        {
          "name": "stdout",
          "output_type": "stream",
          "text": [
            "You Only Live Twice\n",
            "From Russia with Love\n",
            "On Her Majesty's Secret Service\n",
            "The Man with the Golden Gun\n",
            "Never Say Never Again\n"
          ]
        }
      ],
      "source": [
        "recommend('Taxi Driver')"
      ]
    },
    {
      "cell_type": "code",
      "execution_count": null,
      "id": "2b9ebd4a",
      "metadata": {
        "id": "2b9ebd4a"
      },
      "outputs": [],
      "source": []
    }
  ],
  "metadata": {
    "kernelspec": {
      "display_name": "Python 3 (ipykernel)",
      "language": "python",
      "name": "python3"
    },
    "language_info": {
      "codemirror_mode": {
        "name": "ipython",
        "version": 3
      },
      "file_extension": ".py",
      "mimetype": "text/x-python",
      "name": "python",
      "nbconvert_exporter": "python",
      "pygments_lexer": "ipython3",
      "version": "3.11.5"
    },
    "colab": {
      "provenance": []
    }
  },
  "nbformat": 4,
  "nbformat_minor": 5
}